{
  "nbformat": 4,
  "nbformat_minor": 0,
  "metadata": {
    "kernelspec": {
      "display_name": "Python 3",
      "language": "python",
      "name": "python3"
    },
    "language_info": {
      "codemirror_mode": {
        "name": "ipython",
        "version": 3
      },
      "file_extension": ".py",
      "mimetype": "text/x-python",
      "name": "python",
      "nbconvert_exporter": "python",
      "pygments_lexer": "ipython3",
      "version": "3.6.8"
    },
    "colab": {
      "name": "Copy of lem.ipynb",
      "provenance": [],
      "include_colab_link": true
    }
  },
  "cells": [
    {
      "cell_type": "markdown",
      "metadata": {
        "id": "view-in-github",
        "colab_type": "text"
      },
      "source": [
        "<a href=\"https://colab.research.google.com/github/mohanrajmit/ML-training/blob/master/Copy_of_lem.ipynb\" target=\"_parent\"><img src=\"https://colab.research.google.com/assets/colab-badge.svg\" alt=\"Open In Colab\"/></a>"
      ]
    },
    {
      "cell_type": "markdown",
      "metadata": {
        "id": "VXCwOjLh2r_l"
      },
      "source": [
        "# Supplemental Data Cleaning: Using a Lemmatizer"
      ]
    },
    {
      "cell_type": "markdown",
      "metadata": {
        "id": "tj3Mi-ub2r_o"
      },
      "source": [
        "### Test out WordNet lemmatizer (read more about WordNet [here](https://wordnet.princeton.edu/))"
      ]
    },
    {
      "cell_type": "code",
      "metadata": {
        "colab": {
          "base_uri": "https://localhost:8080/"
        },
        "id": "75aGOdCs2r_q",
        "outputId": "2b2d581a-ed43-4bd0-a53d-bceecfe6149f"
      },
      "source": [
        "import nltk\n",
        "nltk.download('wordnet')\n",
        "\n",
        "wn = nltk.WordNetLemmatizer()\n",
        "ps = nltk.PorterStemmer()"
      ],
      "execution_count": null,
      "outputs": [
        {
          "output_type": "stream",
          "text": [
            "[nltk_data] Downloading package wordnet to /root/nltk_data...\n",
            "[nltk_data]   Unzipping corpora/wordnet.zip.\n"
          ],
          "name": "stdout"
        }
      ]
    },
    {
      "cell_type": "code",
      "metadata": {
        "colab": {
          "base_uri": "https://localhost:8080/"
        },
        "id": "oN8v0VCU2r_r",
        "outputId": "f6e971cc-6063-4555-bd4f-2ce5af5b4e4d"
      },
      "source": [
        "dir(wn)"
      ],
      "execution_count": null,
      "outputs": [
        {
          "output_type": "execute_result",
          "data": {
            "text/plain": [
              "['__class__',\n",
              " '__delattr__',\n",
              " '__dict__',\n",
              " '__dir__',\n",
              " '__doc__',\n",
              " '__eq__',\n",
              " '__format__',\n",
              " '__ge__',\n",
              " '__getattribute__',\n",
              " '__gt__',\n",
              " '__hash__',\n",
              " '__init__',\n",
              " '__init_subclass__',\n",
              " '__le__',\n",
              " '__lt__',\n",
              " '__module__',\n",
              " '__ne__',\n",
              " '__new__',\n",
              " '__reduce__',\n",
              " '__reduce_ex__',\n",
              " '__repr__',\n",
              " '__setattr__',\n",
              " '__sizeof__',\n",
              " '__str__',\n",
              " '__subclasshook__',\n",
              " '__unicode__',\n",
              " '__weakref__',\n",
              " 'lemmatize',\n",
              " 'unicode_repr']"
            ]
          },
          "metadata": {
            "tags": []
          },
          "execution_count": 6
        }
      ]
    },
    {
      "cell_type": "code",
      "metadata": {
        "colab": {
          "base_uri": "https://localhost:8080/"
        },
        "id": "2Pm6PX992r_s",
        "outputId": "fc9708ff-d1ec-47a4-fdf2-dbac473ea934"
      },
      "source": [
        "print(ps.stem('meanness'))\n",
        "print(ps.stem('meaning'))\n",
        "print(ps.stem('run'))\n",
        "print(ps.stem('running'))\n",
        "print(ps.stem('runner'))\n",
        "\n",
        "print(ps.stem(\"Meanness\"))\n",
        "print(ps.stem(\"meaning\"))\n"
      ],
      "execution_count": null,
      "outputs": [
        {
          "output_type": "stream",
          "text": [
            "mean\n",
            "mean\n",
            "run\n",
            "run\n",
            "runner\n",
            "mean\n",
            "mean\n"
          ],
          "name": "stdout"
        }
      ]
    },
    {
      "cell_type": "code",
      "metadata": {
        "colab": {
          "base_uri": "https://localhost:8080/"
        },
        "id": "TW2JVd9t2r_t",
        "outputId": "058bb017-6ae3-40cf-8115-4415367bdb81"
      },
      "source": [
        "print(wn.lemmatize('meanness'))\n",
        "print(wn.lemmatize('meaning'))"
      ],
      "execution_count": null,
      "outputs": [
        {
          "output_type": "stream",
          "text": [
            "meanness\n",
            "meaning\n"
          ],
          "name": "stdout"
        }
      ]
    },
    {
      "cell_type": "code",
      "metadata": {
        "colab": {
          "base_uri": "https://localhost:8080/"
        },
        "id": "Tbu_RoUE2r_u",
        "outputId": "ada4588d-3026-4b55-e553-58719b7494e1"
      },
      "source": [
        "tokenized = ['test','in','the','rest','of','for','new','last']\n",
        "result = [word for word in tokenized if word not in ['in','on','the','of','for']]\n",
        "print(result)"
      ],
      "execution_count": null,
      "outputs": [
        {
          "output_type": "stream",
          "text": [
            "['test', 'rest', 'new', 'last']\n"
          ],
          "name": "stdout"
        }
      ]
    },
    {
      "cell_type": "code",
      "metadata": {
        "colab": {
          "base_uri": "https://localhost:8080/"
        },
        "id": "GXxT9oy02r_v",
        "outputId": "8a601477-4c8b-4305-cab0-6c036b85f832"
      },
      "source": [
        "print(ps.stem('goose'))\n",
        "print(ps.stem('geese'))"
      ],
      "execution_count": null,
      "outputs": [
        {
          "output_type": "stream",
          "text": [
            "goos\n",
            "gees\n"
          ],
          "name": "stdout"
        }
      ]
    },
    {
      "cell_type": "code",
      "metadata": {
        "colab": {
          "base_uri": "https://localhost:8080/"
        },
        "id": "8Ilr_3tH2r_v",
        "outputId": "de66532b-a534-4b98-f3ca-3325bd0699c6"
      },
      "source": [
        "import re\n",
        "print(re.split('\\W+',\"some of the-words are+combined\"))"
      ],
      "execution_count": null,
      "outputs": [
        {
          "output_type": "stream",
          "text": [
            "['some', 'of', 'the', 'words', 'are', 'combined']\n"
          ],
          "name": "stdout"
        }
      ]
    },
    {
      "cell_type": "code",
      "metadata": {
        "colab": {
          "base_uri": "https://localhost:8080/"
        },
        "id": "6aOMSNyv2r_w",
        "outputId": "bd80388e-58a7-4722-ab2a-e42e9514c6c0"
      },
      "source": [
        "print(wn.lemmatize('goose'))\n",
        "print(wn.lemmatize('geese'))"
      ],
      "execution_count": null,
      "outputs": [
        {
          "output_type": "stream",
          "text": [
            "goose\n",
            "goose\n"
          ],
          "name": "stdout"
        }
      ]
    },
    {
      "cell_type": "markdown",
      "metadata": {
        "id": "DLsUlnBI2r_x"
      },
      "source": [
        "### Read in raw text"
      ]
    },
    {
      "cell_type": "code",
      "metadata": {
        "colab": {
          "base_uri": "https://localhost:8080/"
        },
        "id": "5sAlMMWO3Pbj",
        "outputId": "f3093f4c-96d2-42fe-c9a3-01664801c2bf"
      },
      "source": [
        "nltk.download('stopwords')"
      ],
      "execution_count": null,
      "outputs": [
        {
          "output_type": "stream",
          "text": [
            "[nltk_data] Downloading package stopwords to /root/nltk_data...\n",
            "[nltk_data]   Unzipping corpora/stopwords.zip.\n"
          ],
          "name": "stdout"
        },
        {
          "output_type": "execute_result",
          "data": {
            "text/plain": [
              "True"
            ]
          },
          "metadata": {
            "tags": []
          },
          "execution_count": 14
        }
      ]
    },
    {
      "cell_type": "code",
      "metadata": {
        "colab": {
          "base_uri": "https://localhost:8080/",
          "height": 195
        },
        "id": "fv-_awdR2r_x",
        "outputId": "4ff96661-c4b9-4e3b-ea4a-ca812fbb6d62"
      },
      "source": [
        "import pandas as pd\n",
        "import re\n",
        "import string\n",
        "pd.set_option('display.max_colwidth', 100)\n",
        "\n",
        "stopwords = nltk.corpus.stopwords.words('english')\n",
        "\n",
        "data = pd.read_csv(\"/content/output.csv\")\n",
        "#data.columns = ['label', 'body_text']\n",
        "\n",
        "data.head()"
      ],
      "execution_count": null,
      "outputs": [
        {
          "output_type": "execute_result",
          "data": {
            "text/html": [
              "<div>\n",
              "<style scoped>\n",
              "    .dataframe tbody tr th:only-of-type {\n",
              "        vertical-align: middle;\n",
              "    }\n",
              "\n",
              "    .dataframe tbody tr th {\n",
              "        vertical-align: top;\n",
              "    }\n",
              "\n",
              "    .dataframe thead th {\n",
              "        text-align: right;\n",
              "    }\n",
              "</style>\n",
              "<table border=\"1\" class=\"dataframe\">\n",
              "  <thead>\n",
              "    <tr style=\"text-align: right;\">\n",
              "      <th></th>\n",
              "      <th>Text</th>\n",
              "      <th>Label</th>\n",
              "    </tr>\n",
              "  </thead>\n",
              "  <tbody>\n",
              "    <tr>\n",
              "      <th>0</th>\n",
              "      <td>الشركة العربية للسيارات مم۔\\nNISSAN\\nArabian Automobiles Co. l.l.c.\\nINFINITI,\\nPO Box: 2128, Du...</td>\n",
              "      <td>delivery note</td>\n",
              "    </tr>\n",
              "    <tr>\n",
              "      <th>1</th>\n",
              "      <td>}\\nNISSAN\\nAl Masaood Automobiles Company L.L.C.\\nP.O. Box 322, Abu Dhabi - United Arab Emiratos...</td>\n",
              "      <td>delivery note</td>\n",
              "    </tr>\n",
              "    <tr>\n",
              "      <th>2</th>\n",
              "      <td>FLEET DELIVERY NOTE\\nDelivered To\\nALAIN MOTORS RENT A CAR\\nAddress\\nDelivery Number\\nInvoice Nu...</td>\n",
              "      <td>delivery note</td>\n",
              "    </tr>\n",
              "    <tr>\n",
              "      <th>3</th>\n",
              "      <td>FLEET DELIVERY NOTE\\nDelivered To\\nDelivery Number\\nInvoice Number\\nDelivery Date\\nInvoice Accou...</td>\n",
              "      <td>delivery note</td>\n",
              "    </tr>\n",
              "    <tr>\n",
              "      <th>4</th>\n",
              "      <td>NISSAN\\nAl Masagod Automobiles Company L.L.C.\\nP.O.Box 322, Abu Dhaby - United Arab Emirates\\nH....</td>\n",
              "      <td>delivery note</td>\n",
              "    </tr>\n",
              "  </tbody>\n",
              "</table>\n",
              "</div>"
            ],
            "text/plain": [
              "                                                                                                  Text          Label\n",
              "0  الشركة العربية للسيارات مم۔\\nNISSAN\\nArabian Automobiles Co. l.l.c.\\nINFINITI,\\nPO Box: 2128, Du...  delivery note\n",
              "1  }\\nNISSAN\\nAl Masaood Automobiles Company L.L.C.\\nP.O. Box 322, Abu Dhabi - United Arab Emiratos...  delivery note\n",
              "2  FLEET DELIVERY NOTE\\nDelivered To\\nALAIN MOTORS RENT A CAR\\nAddress\\nDelivery Number\\nInvoice Nu...  delivery note\n",
              "3  FLEET DELIVERY NOTE\\nDelivered To\\nDelivery Number\\nInvoice Number\\nDelivery Date\\nInvoice Accou...  delivery note\n",
              "4  NISSAN\\nAl Masagod Automobiles Company L.L.C.\\nP.O.Box 322, Abu Dhaby - United Arab Emirates\\nH....  delivery note"
            ]
          },
          "metadata": {
            "tags": []
          },
          "execution_count": 15
        }
      ]
    },
    {
      "cell_type": "markdown",
      "metadata": {
        "id": "h0uDlubK2r_y"
      },
      "source": [
        "### Clean up text"
      ]
    },
    {
      "cell_type": "code",
      "metadata": {
        "colab": {
          "base_uri": "https://localhost:8080/",
          "height": 279
        },
        "id": "G21_4KXl2r_y",
        "outputId": "94aefef2-7d58-4e8e-9ad3-e3e6121f358d"
      },
      "source": [
        "def clean_text(text):\n",
        "    text = \"\".join([word for word in text if word not in string.punctuation])\n",
        "    tokens = re.split('\\W+', text)\n",
        "    text = [word for word in tokens if word not in stopwords]\n",
        "    return text\n",
        "\n",
        "data['body_text_nostop'] = data['Text'].apply(lambda x: clean_text(x.lower()))\n",
        "\n",
        "data.head()"
      ],
      "execution_count": null,
      "outputs": [
        {
          "output_type": "execute_result",
          "data": {
            "text/html": [
              "<div>\n",
              "<style scoped>\n",
              "    .dataframe tbody tr th:only-of-type {\n",
              "        vertical-align: middle;\n",
              "    }\n",
              "\n",
              "    .dataframe tbody tr th {\n",
              "        vertical-align: top;\n",
              "    }\n",
              "\n",
              "    .dataframe thead th {\n",
              "        text-align: right;\n",
              "    }\n",
              "</style>\n",
              "<table border=\"1\" class=\"dataframe\">\n",
              "  <thead>\n",
              "    <tr style=\"text-align: right;\">\n",
              "      <th></th>\n",
              "      <th>Text</th>\n",
              "      <th>Label</th>\n",
              "      <th>body_text_nostop</th>\n",
              "    </tr>\n",
              "  </thead>\n",
              "  <tbody>\n",
              "    <tr>\n",
              "      <th>0</th>\n",
              "      <td>الشركة العربية للسيارات مم۔\\nNISSAN\\nArabian Automobiles Co. l.l.c.\\nINFINITI,\\nPO Box: 2128, Du...</td>\n",
              "      <td>delivery note</td>\n",
              "      <td>[الشركة, العربية, للسيارات, مم, nissan, arabian, automobiles, co, llc, infiniti, po, box, 2128, ...</td>\n",
              "    </tr>\n",
              "    <tr>\n",
              "      <th>1</th>\n",
              "      <td>}\\nNISSAN\\nAl Masaood Automobiles Company L.L.C.\\nP.O. Box 322, Abu Dhabi - United Arab Emiratos...</td>\n",
              "      <td>delivery note</td>\n",
              "      <td>[, nissan, al, masaood, automobiles, company, llc, po, box, 322, abu, dhabi, united, arab, emira...</td>\n",
              "    </tr>\n",
              "    <tr>\n",
              "      <th>2</th>\n",
              "      <td>FLEET DELIVERY NOTE\\nDelivered To\\nALAIN MOTORS RENT A CAR\\nAddress\\nDelivery Number\\nInvoice Nu...</td>\n",
              "      <td>delivery note</td>\n",
              "      <td>[fleet, delivery, note, delivered, alain, motors, rent, car, address, delivery, number, invoice,...</td>\n",
              "    </tr>\n",
              "    <tr>\n",
              "      <th>3</th>\n",
              "      <td>FLEET DELIVERY NOTE\\nDelivered To\\nDelivery Number\\nInvoice Number\\nDelivery Date\\nInvoice Accou...</td>\n",
              "      <td>delivery note</td>\n",
              "      <td>[fleet, delivery, note, delivered, delivery, number, invoice, number, delivery, date, invoice, a...</td>\n",
              "    </tr>\n",
              "    <tr>\n",
              "      <th>4</th>\n",
              "      <td>NISSAN\\nAl Masagod Automobiles Company L.L.C.\\nP.O.Box 322, Abu Dhaby - United Arab Emirates\\nH....</td>\n",
              "      <td>delivery note</td>\n",
              "      <td>[nissan, al, masagod, automobiles, company, llc, pobox, 322, abu, dhaby, united, arab, emirates,...</td>\n",
              "    </tr>\n",
              "  </tbody>\n",
              "</table>\n",
              "</div>"
            ],
            "text/plain": [
              "                                                                                                  Text  ...                                                                                     body_text_nostop\n",
              "0  الشركة العربية للسيارات مم۔\\nNISSAN\\nArabian Automobiles Co. l.l.c.\\nINFINITI,\\nPO Box: 2128, Du...  ...  [الشركة, العربية, للسيارات, مم, nissan, arabian, automobiles, co, llc, infiniti, po, box, 2128, ...\n",
              "1  }\\nNISSAN\\nAl Masaood Automobiles Company L.L.C.\\nP.O. Box 322, Abu Dhabi - United Arab Emiratos...  ...  [, nissan, al, masaood, automobiles, company, llc, po, box, 322, abu, dhabi, united, arab, emira...\n",
              "2  FLEET DELIVERY NOTE\\nDelivered To\\nALAIN MOTORS RENT A CAR\\nAddress\\nDelivery Number\\nInvoice Nu...  ...  [fleet, delivery, note, delivered, alain, motors, rent, car, address, delivery, number, invoice,...\n",
              "3  FLEET DELIVERY NOTE\\nDelivered To\\nDelivery Number\\nInvoice Number\\nDelivery Date\\nInvoice Accou...  ...  [fleet, delivery, note, delivered, delivery, number, invoice, number, delivery, date, invoice, a...\n",
              "4  NISSAN\\nAl Masagod Automobiles Company L.L.C.\\nP.O.Box 322, Abu Dhaby - United Arab Emirates\\nH....  ...  [nissan, al, masagod, automobiles, company, llc, pobox, 322, abu, dhaby, united, arab, emirates,...\n",
              "\n",
              "[5 rows x 3 columns]"
            ]
          },
          "metadata": {
            "tags": []
          },
          "execution_count": 16
        }
      ]
    },
    {
      "cell_type": "markdown",
      "metadata": {
        "id": "jgXGoO4X2r_z"
      },
      "source": [
        "### Lemmatize text"
      ]
    },
    {
      "cell_type": "code",
      "metadata": {
        "colab": {
          "base_uri": "https://localhost:8080/",
          "height": 578
        },
        "id": "Uz19unyF2r_z",
        "outputId": "c859212a-7c9b-4880-f0fc-15953fb45634"
      },
      "source": [
        "def lemmatizing(tokenized_text):\n",
        "    text = [wn.lemmatize(word) for word in tokenized_text]\n",
        "    return text\n",
        "\n",
        "data['body_text_lemmatized'] = data['body_text_nostop'].apply(lambda x: lemmatizing(x))\n",
        "\n",
        "data.head(10)"
      ],
      "execution_count": null,
      "outputs": [
        {
          "output_type": "execute_result",
          "data": {
            "text/html": [
              "<div>\n",
              "<style scoped>\n",
              "    .dataframe tbody tr th:only-of-type {\n",
              "        vertical-align: middle;\n",
              "    }\n",
              "\n",
              "    .dataframe tbody tr th {\n",
              "        vertical-align: top;\n",
              "    }\n",
              "\n",
              "    .dataframe thead th {\n",
              "        text-align: right;\n",
              "    }\n",
              "</style>\n",
              "<table border=\"1\" class=\"dataframe\">\n",
              "  <thead>\n",
              "    <tr style=\"text-align: right;\">\n",
              "      <th></th>\n",
              "      <th>Text</th>\n",
              "      <th>Label</th>\n",
              "      <th>body_text_nostop</th>\n",
              "      <th>body_text_lemmatized</th>\n",
              "    </tr>\n",
              "  </thead>\n",
              "  <tbody>\n",
              "    <tr>\n",
              "      <th>0</th>\n",
              "      <td>الشركة العربية للسيارات مم۔\\nNISSAN\\nArabian Automobiles Co. l.l.c.\\nINFINITI,\\nPO Box: 2128, Du...</td>\n",
              "      <td>delivery note</td>\n",
              "      <td>[الشركة, العربية, للسيارات, مم, nissan, arabian, automobiles, co, llc, infiniti, po, box, 2128, ...</td>\n",
              "      <td>[الشركة, العربية, للسيارات, مم, nissan, arabian, automobile, co, llc, infiniti, po, box, 2128, d...</td>\n",
              "    </tr>\n",
              "    <tr>\n",
              "      <th>1</th>\n",
              "      <td>}\\nNISSAN\\nAl Masaood Automobiles Company L.L.C.\\nP.O. Box 322, Abu Dhabi - United Arab Emiratos...</td>\n",
              "      <td>delivery note</td>\n",
              "      <td>[, nissan, al, masaood, automobiles, company, llc, po, box, 322, abu, dhabi, united, arab, emira...</td>\n",
              "      <td>[, nissan, al, masaood, automobile, company, llc, po, box, 322, abu, dhabi, united, arab, emirat...</td>\n",
              "    </tr>\n",
              "    <tr>\n",
              "      <th>2</th>\n",
              "      <td>FLEET DELIVERY NOTE\\nDelivered To\\nALAIN MOTORS RENT A CAR\\nAddress\\nDelivery Number\\nInvoice Nu...</td>\n",
              "      <td>delivery note</td>\n",
              "      <td>[fleet, delivery, note, delivered, alain, motors, rent, car, address, delivery, number, invoice,...</td>\n",
              "      <td>[fleet, delivery, note, delivered, alain, motor, rent, car, address, delivery, number, invoice, ...</td>\n",
              "    </tr>\n",
              "    <tr>\n",
              "      <th>3</th>\n",
              "      <td>FLEET DELIVERY NOTE\\nDelivered To\\nDelivery Number\\nInvoice Number\\nDelivery Date\\nInvoice Accou...</td>\n",
              "      <td>delivery note</td>\n",
              "      <td>[fleet, delivery, note, delivered, delivery, number, invoice, number, delivery, date, invoice, a...</td>\n",
              "      <td>[fleet, delivery, note, delivered, delivery, number, invoice, number, delivery, date, invoice, a...</td>\n",
              "    </tr>\n",
              "    <tr>\n",
              "      <th>4</th>\n",
              "      <td>NISSAN\\nAl Masagod Automobiles Company L.L.C.\\nP.O.Box 322, Abu Dhaby - United Arab Emirates\\nH....</td>\n",
              "      <td>delivery note</td>\n",
              "      <td>[nissan, al, masagod, automobiles, company, llc, pobox, 322, abu, dhaby, united, arab, emirates,...</td>\n",
              "      <td>[nissan, al, masagod, automobile, company, llc, pobox, 322, abu, dhaby, united, arab, emirate, h...</td>\n",
              "    </tr>\n",
              "    <tr>\n",
              "      <th>5</th>\n",
              "      <td>BROKER\\nSINCLG\\nPARG DELIVERY NOTE\\nAmer\\n055550 1986\\nAwir Automarket\\nالشركة العربية للسيارات ...</td>\n",
              "      <td>delivery note</td>\n",
              "      <td>[broker, sinclg, parg, delivery, note, amer, 055550, 1986, awir, automarket, الشركة, العربية, لل...</td>\n",
              "      <td>[broker, sinclg, parg, delivery, note, amer, 055550, 1986, awir, automarket, الشركة, العربية, لل...</td>\n",
              "    </tr>\n",
              "    <tr>\n",
              "      <th>6</th>\n",
              "      <td>BROKER MULIP\\nMuciP PAGE\\nPAGE DELIVERY NOTE\\n,\\nBuraya\\nالشركة العربية للسيارات د...\\nArablan A...</td>\n",
              "      <td>delivery note</td>\n",
              "      <td>[broker, mulip, mucip, page, page, delivery, note, buraya, الشركة, العربية, للسيارات, د, arablan...</td>\n",
              "      <td>[broker, mulip, mucip, page, page, delivery, note, buraya, الشركة, العربية, للسيارات, د, arablan...</td>\n",
              "    </tr>\n",
              "    <tr>\n",
              "      <th>7</th>\n",
              "      <td>Collection\\nIbrahin\\nالشركة العربية للسيارات حمم\\nNISSAN\\nArablan Automobiles Co, LLC,\\nINFINITI...</td>\n",
              "      <td>delivery note</td>\n",
              "      <td>[collection, ibrahin, الشركة, العربية, للسيارات, حمم, nissan, arablan, automobiles, co, llc, inf...</td>\n",
              "      <td>[collection, ibrahin, الشركة, العربية, للسيارات, حمم, nissan, arablan, automobile, co, llc, infi...</td>\n",
              "    </tr>\n",
              "    <tr>\n",
              "      <th>8</th>\n",
              "      <td>Al Masaood Autornabiles Company LLC,\\nPO, Box 322. Abu Dhabi - United Arab Emiraios\\nFiect Najda...</td>\n",
              "      <td>delivery note</td>\n",
              "      <td>[al, masaood, autornabiles, company, llc, po, box, 322, abu, dhabi, united, arab, emiraios, fiec...</td>\n",
              "      <td>[al, masaood, autornabiles, company, llc, po, box, 322, abu, dhabi, united, arab, emiraios, fiec...</td>\n",
              "    </tr>\n",
              "    <tr>\n",
              "      <th>9</th>\n",
              "      <td>NISSAN\\nAl Masaoad Automobiles Company L.L.C.\\nP.O.Bax S22. Abu Dhabi - United Arab Emirates\\nFl...</td>\n",
              "      <td>delivery note</td>\n",
              "      <td>[nissan, al, masaoad, automobiles, company, llc, pobax, s22, abu, dhabi, united, arab, emirates,...</td>\n",
              "      <td>[nissan, al, masaoad, automobile, company, llc, pobax, s22, abu, dhabi, united, arab, emirate, f...</td>\n",
              "    </tr>\n",
              "  </tbody>\n",
              "</table>\n",
              "</div>"
            ],
            "text/plain": [
              "                                                                                                  Text  ...                                                                                 body_text_lemmatized\n",
              "0  الشركة العربية للسيارات مم۔\\nNISSAN\\nArabian Automobiles Co. l.l.c.\\nINFINITI,\\nPO Box: 2128, Du...  ...  [الشركة, العربية, للسيارات, مم, nissan, arabian, automobile, co, llc, infiniti, po, box, 2128, d...\n",
              "1  }\\nNISSAN\\nAl Masaood Automobiles Company L.L.C.\\nP.O. Box 322, Abu Dhabi - United Arab Emiratos...  ...  [, nissan, al, masaood, automobile, company, llc, po, box, 322, abu, dhabi, united, arab, emirat...\n",
              "2  FLEET DELIVERY NOTE\\nDelivered To\\nALAIN MOTORS RENT A CAR\\nAddress\\nDelivery Number\\nInvoice Nu...  ...  [fleet, delivery, note, delivered, alain, motor, rent, car, address, delivery, number, invoice, ...\n",
              "3  FLEET DELIVERY NOTE\\nDelivered To\\nDelivery Number\\nInvoice Number\\nDelivery Date\\nInvoice Accou...  ...  [fleet, delivery, note, delivered, delivery, number, invoice, number, delivery, date, invoice, a...\n",
              "4  NISSAN\\nAl Masagod Automobiles Company L.L.C.\\nP.O.Box 322, Abu Dhaby - United Arab Emirates\\nH....  ...  [nissan, al, masagod, automobile, company, llc, pobox, 322, abu, dhaby, united, arab, emirate, h...\n",
              "5  BROKER\\nSINCLG\\nPARG DELIVERY NOTE\\nAmer\\n055550 1986\\nAwir Automarket\\nالشركة العربية للسيارات ...  ...  [broker, sinclg, parg, delivery, note, amer, 055550, 1986, awir, automarket, الشركة, العربية, لل...\n",
              "6  BROKER MULIP\\nMuciP PAGE\\nPAGE DELIVERY NOTE\\n,\\nBuraya\\nالشركة العربية للسيارات د...\\nArablan A...  ...  [broker, mulip, mucip, page, page, delivery, note, buraya, الشركة, العربية, للسيارات, د, arablan...\n",
              "7  Collection\\nIbrahin\\nالشركة العربية للسيارات حمم\\nNISSAN\\nArablan Automobiles Co, LLC,\\nINFINITI...  ...  [collection, ibrahin, الشركة, العربية, للسيارات, حمم, nissan, arablan, automobile, co, llc, infi...\n",
              "8  Al Masaood Autornabiles Company LLC,\\nPO, Box 322. Abu Dhabi - United Arab Emiraios\\nFiect Najda...  ...  [al, masaood, autornabiles, company, llc, po, box, 322, abu, dhabi, united, arab, emiraios, fiec...\n",
              "9  NISSAN\\nAl Masaoad Automobiles Company L.L.C.\\nP.O.Bax S22. Abu Dhabi - United Arab Emirates\\nFl...  ...  [nissan, al, masaoad, automobile, company, llc, pobax, s22, abu, dhabi, united, arab, emirate, f...\n",
              "\n",
              "[10 rows x 4 columns]"
            ]
          },
          "metadata": {
            "tags": []
          },
          "execution_count": 17
        }
      ]
    },
    {
      "cell_type": "code",
      "metadata": {
        "id": "mQGYVYKk5KDs"
      },
      "source": [
        "def clean_text(text):\r\n",
        "    text = \"\".join([word.lower() for word in text if word not in string.punctuation])\r\n",
        "    tokens = re.split('\\W+', text)\r\n",
        "    text = [ps.stem(word) for word in tokens if word not in stopwords]\r\n",
        "    return text"
      ],
      "execution_count": null,
      "outputs": []
    },
    {
      "cell_type": "code",
      "metadata": {
        "collapsed": true,
        "id": "t-OVtZ8Z2r_0"
      },
      "source": [
        "from sklearn.feature_extraction.text import TfidfVectorizer"
      ],
      "execution_count": null,
      "outputs": []
    },
    {
      "cell_type": "code",
      "metadata": {
        "colab": {
          "base_uri": "https://localhost:8080/"
        },
        "id": "ObM5O1Y336wn",
        "outputId": "1d4e7726-92af-4c70-cc47-f5d00a319d0e"
      },
      "source": [
        "\r\n",
        "from sklearn.feature_extraction.text import CountVectorizer\r\n",
        "\r\n",
        "count_vect = CountVectorizer(analyzer=clean_text)\r\n",
        "X_counts = count_vect.fit_transform(data['Text'])\r\n",
        "print(X_counts.shape)\r\n",
        "print(count_vect.get_feature_names())"
      ],
      "execution_count": null,
      "outputs": [
        {
          "output_type": "stream",
          "text": [
            "(32, 2673)\n",
            "['', '0', '00', '000', '0000000000', '0000016315', '0000017047', '0000018367', '0000211019', '00003', '0000411965', '0001216', '0001231', '0002', '0003947', '001', '0085010549', '0085011777', '009073', '00971504884177', '00971523578989', '00vf', '01', '010', '0119760', '01950335', '02', '0202631', '02150092', '02217', '02488353', '0267223', '026766323', '028848322', '02nov2019', '03', '0302664', '0302680', '0302681', '0302698', '0302701', '0302702', '0302707', '03112019', '035000', '037219999', '037222216', '04', '0405579', '042671287', '042950333', '042952222', '042952229', '042952702', '042952722', '042952828', '043080036', '043331006', '043390999', '043900036', '043980036', '045', '047950333', '04dec19', '05010895', '0506928039', '05082019', '0522238183', '055550', '0558694459', '0564139973', '05dec2019', '060', '0607666158', '0609821', '062776745', '062776746', '065396111', '065398111', '065398114', '06539811ajman', '06539b111', '065542333', '065985300', '065986300', '067014800', '0670148001', '067014800i', '06714800', '067666', '067666158', '06776746', '068822681', '068922681', '07', '0700213', '0700219', '0700237', '0700239', '0700248', '0700249', '0700250', '0700256', '0700260', '0700265', '0700266', '0700287', '0700292', '0700293', '0700297', '0700308', '0700314', '0700317', '0700324', '0700330', '0700332', '0700333', '0700337', '0702003', '0702959', '0702961', '0702969', '0702977', '0702984', '0702985', '0702999', '0703003', '0703012', '0703021', '0703024', '0703030', '0703031', '0703036', '0703037', '0703042', '0703045', '0703051', '0703054', '0703059', '0703067', '0703071', '0703076', '0703092', '0703094', '07082019', '0715723', '0715725', '0715731', '0715736', '0715738', '0715739', '0715744', '0715752', '0715753', '0715757', '0715758', '0715763', '0715765', '0715769', '0715771', '0715779', '0715779white', '0715781', '0715790', '072351061', '072351661', '0723516611', '07251661', '0745731', '0751g1shaid', '0809820', '0809829', '08440', '085542333', '088', '0914140', '092018', '09223818', '092305642', '09238584', '092385842', '0923994', '092444753', '0926444753', '1', '10', '1000', '10000', '100237520000003', '100244272900003', '100271923300003', '100272094200003', '100286013600003', '100424558300003', '100431397700003', '100551596800003', '1008990', '1008998', '10090', '1009003', '1009020', '1009022', '1009071', '1009079', '1009081', '101009', '10102019', '10112019', '10230000', '10238', '10300000', '1035', '10521000', '10700266', '1080', '11', '11072019', '111', '11111', '111976', '111gco', '11220191', '112571435', '113', '1131300', '11330269', '11438', '114719', '1162', '11690', '118', '11820000', '11898593', '11911400332', '11hbn7ad3lg704175', '11viiii', '11vol', '120455', '1214300', '121654720', '121999', '122', '1238', '1240', '1241', '1241uae', '12477270', '12v', '13', '13100000', '1311', '1336', '1337', '1338', '1339', '1340', '13957143', '13th', '14', '14285700', '14753ء', '148808', '149113', '15', '15000', '15082019', '150co', '151000', '1510000', '1525000', '152500000', '15550000', '157000', '15723', '15765410h', '15765632h', '15765643h', '15775', '15790', '158', '158256000', '1590894', '1598', '15l', '15lat', '15svat', '16', '1600', '16300000', '1651', '166297', '167000', '16l', '170', '17047', '17102019', '17199', '173280000', '17370000', '175000', '1750000', '17bril', '18', '18243', '18367', '18660', '19', '19030', '19080', '1911400332', '1919', '19300000', '1986', '19alt030', '19kic130', '19ric130', '19sen060', '1alark', '1iron', '1irre1', '1k20', '1lasaood', '1n4aa6ap1jc381136', '1n4bl4a94kc205283', '1nirror', '1r1', '1slait', '1slat', '1slo', '1v11', '1viiii', '1vol', '1vv', '1vv۲۰۰۰', '2', '20', '200000', '2017931', '2019', '2020', '20210', '20250000', '20310', '2044203', '2048500', '20710', '2094200003', '20box322', '20k', '20pat710', '20pat719', '20pat951', '20sun210', '20sun310', '20t', '21', '210000', '21102019', '2128', '2129', '21438', '214550', '22', '220762', '222318', '22249', '22dec19', '23', '230000', '2300000', '2310', '235800000', '24', '240200', '24092019', '2425', '2431275', '2444209', '25', '250819', '2577', '2579973', '259227', '25l', '25nov19', '2625000', '262776746', '265143h', '265269h', '2661502', '266249h', '26769133', '26772000', '2700000', '2766249h', '281', '2811113', '2813343', '2824957', '282502', '284400', '2844200', '2844800', '284812', '285714300', '2888', '28903343', '28983343', '290548', '2959111', '2959222', '2v1', '2x', '2year', '3', '300', '300000', '300000000', '30092019', '302577', '30500000', '3050000000', '30oct19', '3105', '3140000', '315000', '315500', '31710000', '32025000', '3202500000', '322', '32400000', '324000000', '324015', '325050', '325995', '326013000', '3263347308', '328546307', '328741309', '331275', '333100', '3340000', '3400000', '34000000', '3410000', '345500', '35', '3500000', '35000000', '3510', '3534', '358698342', '358698344', '36', '3600', '36100', '3610000', '3675000', '36750000', '370z', '371', '3712', '372', '377x01', '381', '3844200', '384770000', '3863', '3945', '3n', '3n1cp5c9xkl518830', '4', '40', '400', '400000', '400638', '402809', '402810', '402812', '402813', '402814', '402815', '4029120', '404115', '4053000', '4086630', '409412', '409414', '409415', '409416', '409417', '409418', '409419', '409420', '409421', '409422', '409423', '409424', '409426', '409427', '409428', '409429', '409430', '409431', '409432', '409434', '409435', '409437', '409438', '409439', '409440', '409575', '409576', '409577', '409579', '409580', '409581', '409582', '409583', '409584', '409585', '409586', '409587', '409589', '409591', '409592', '409593', '409594', '409595', '409597', '409598', '409599', '409601', '409602', '41', '4119540', '41196', '411960', '4119600', '411961', '411962', '4119620', '411963', '41196340', '411964', '411965', '41196510', '411966', '411967', '411968', '4119680', '41196870', '411969', '4119690', '411970', '4119700', '411971', '41197110', '41197170', '411972', '4119720', '411973', '4119730', '411974', '411975', '4119750', '411977', '4119770', '41198710', '4125940', '41259570', '4125960', '416863', '4168630', '41773570', '41773610', '41773710', '41773810', '41773980', '4177400', '4177410', '4177420', '4177430', '4177440', '4222818', '4399', '457500', '4600000', '46000000', '46050000', '46100', '470000', '4714300', '4830000', '48300000', '48600', '4883343', '4l', '4wd', '5', '500', '501000', '512897', '515143', '51547', '522', '524112', '5248', '531231', '533082', '54124', '5600', '562857', '56443', '56l', '5730', '5731300', '5736', '5757', '57720', '577200', '578677', '5810952', '5811118', '58140', '583200000', '58410', '58440', '58443', '58ee', '5932545', '5c', '5e442', '5كجاth', '6', '60', '6004', '6101500', '61019', '612353', '61378903', '62145', '6300000', '6400007869', '6404324', '6442140', '6480309', '64eola', '65012361', '66007588', '66007688', '67', '6712350', '6712358', '6712368', '671319', '6722300', '6749133', '6750000', '67503', '6766523', '6769133', '6772000', '677200002', '678021', '6780313', '6780319', '6780819', '6804324', '6811118', '6851', '6900000', '69000000', '7', '70', '7002845', '7010066', '7065', '70710', '715738', '715757', '7216547', '7219999', '730791g', '751', '7510066', '7511000', '7536000', '75410', '762582e', '766240h', '77002845', '77002907', '776140x', '77co', '7at', '7th', '8', '828322', '831516a', '83337', '8475000', '85', '85010919', '85011777', '85012517', '85013065', '85013270', '8625000', '8635909', '8750000', '8770', '8772000', '88', '8811118', '8811200', '88140', '8818322', '884420', '8844200', '8848322', '884832720', '888', '8883343', '8885343', '89', '8mall', '8s', '9', '90', '900', '90493', '9098', '9105309', '922103', '9222818', '92875', '939', '9400000', '945', '945000', '946126c', '946130', '946130c', '9461970', '946197c', '946211c', '946226c', '9462580', '946258c', '9463030', '946303c', '9466320', '946632c', '9466470', '946647c', '965000', '971', '9712', '9720000', '9745500', '985000', '9870000', 'a', 'a0032145', 'a4', 'aa', 'aac', 'aaco', 'aacoawrostamanicom', 'aacserviceawrastamanicom', 'aacsorviceawrostamanicom', 'aantalphaar', 'abdulrahim', 'abu', 'abudhabicom', 'abudhablcom', 'ac', 'acacf', 'acc', 'acccf', 'accgf', 'accicf', 'account', 'aco', 'act', 'ad', 'ad3lg690231', 'addount', 'address', 'adel', 'adfz20034', 'adglg689042', 'adinin', 'admin', 'adolg689140', 'adolg689218', 'advanc', 'ae', 'aeer', 'aeامه58', 'af', 'age', 'agre', 'agreo', 'ahnpor', 'ai', 'aii', 'aiva', 'ai۹', 'ai۹11', 'aj', 'ajman', 'al', 'alain', 'alba', 'alen', 'ali', 'alishka', 'allach', 'allow', 'alloy', 'aln', 'alpin', 'altima', 'am1', 'amail', 'amal', 'amamagaoodcom', 'amamaggoodcom', 'amamasaoodcom', 'amamussoodcom', 'aman', 'amapol', 'ameet', 'amer', 'amicapodoom', 'amir', 'amma', 'ammar', 'amount', 'anaemiswoodcom', 'anar', 'anasunoodcom', 'animecodoorm', 'ann', 'annount', 'aocount', 'apart', 'appropri', 'arab', 'arabian', 'arablan', 'arkan', 'armount', 'ascd', 'ascervicaawrastamanlcom', 'assasasablanaltor', 'ast', 'atlach', 'au', 'august', 'aujairah', 'aulomal', 'authoris', 'auto', 'automarket', 'automat', 'automobil', 'autonomesco', 'autornabil', 'autoronit', 'avm', 'avt', 'awir', 'awr', 'awrostamanicom', 'aş', 'b', 'ba', 'bad', 'balanc', 'bank', 'bari', 'batch', 'bcx', 'bhp', 'bill', 'bin', 'black', 'blaze', 'blue', 'bo', 'bodi', 'box', 'box1080', 'boy', 'branch', 'broker', 'bs', 'bu', 'bundr', 'buraya', 'busi', 'byminent', 'bíll', 'c', 'c0001221', 'ca', 'cabana', 'cablc', 'cac', 'cada', 'cal', 'cam', 'camnsales2v1', 'capac', 'car', 'careuropcar', 'cash', 'catalan', 'cav7inc', 'cd', 'cdk', 'cel', 'central', 'charg', 'chargesa', 'chariti', 'chassi', 'check', 'chenganath', 'chequ', 'citi', 'cl', 'cnoe473', 'co', 'co1', 'cod', 'coda', 'code', 'cok', 'collc', 'collect', 'colour', 'com', 'come', 'commerci', 'commis', 'commiss', 'comora', 'compani', 'complimentari', 'condillong', 'condit', 'confirm', 'consol', 'consolid', 'contact', 'continu', 'contract', 'contract3y50k', 'control', 'copi', 'countri', 'cover', 'credit', 'crm', 'crminsales20', 'crmnsale', 'cu', 'cust', 'custom', 'customnor', 'customor', 'cvt', 'c۳', 'd0001212', 'd0001213', 'da', 'dag', 'dale', 'dan', 'dark', 'dashi', 'date', 'day', 'dbabi', 'deaid', 'dealer', 'deba', 'definit', 'definitionident', 'definitionldent', 'del', 'deliv', 'deliveri', 'dellvor', 'denver', 'deposit', 'dept', 'desalb', 'describ', 'descripllan', 'descript', 'det', 'detail', 'detal', 'dhab', 'dhabi', 'dhaid', 'dhaoi', 'dibba', 'dibea', 'dic', 'dieba', 'discount', 'discounta', 'document', 'dodo', 'done', 'door', 'doscript', 'doserpuan', 'downp', 'dr', 'draft', 'dressden', 'du', 'dubai', 'dubal', 'dubol', 'due', 'duea', 'dxb', 'e', 'ecx', 'einoil', 'el', 'em', 'email', 'emal', 'emir', 'emira', 'emiraio', 'emiralc', 'emirato', 'emirza', 'emzil', 'engin', 'eniail', 'enqord', 'enquiri', 'enqulri', 'eoe', 'epith', 'eq', 'ern', 'erriz', 'es', 'est', 'euro', 'ewim', 'excess', 'excl', 'exclus', 'execut', 'exedutivemanag', 'exocutiy', 'extend', 'extra', 'eا', 'f', 'f1ija', 'fa', 'fac', 'fah', 'fairah', 'fanson', 'far', 'fax', 'fax2665561', 'fax61233', 'fax61235a', 'fax75100gg', 'fax9949322', 'fc', 'fcanalda', 'fe67009', 'feat', 'feat۸', 'fee', 'fex', 'fex8249322', 'fex9248322', 'ficetmussateh', 'fiect', 'fil', 'file', 'final', 'financ', 'financemosaoodcom', 'firoz', 'five', 'fjairah', 'fle', 'flea', 'fleet', 'fleetcr', 'fleeysal', 'flegt', 'fleotmwasotah', 'floot', 'follow', 'fon', 'forat', 'forti', 'fotomobilesco', 'foy', 'free', 'fri', 'fuel', 'fujaiaah', 'fujairah', 'fum', 'fun', 'fux', 'fze', 'f۰۰', 'g', 'g769133', 'gacoorvlcagawrostamanicom', 'gap', 'gatepass', 'ghusa', 'ghusai', 'global', 'goda', 'goo', 'good', 'grade', 'grand', 'gray', 'grey', 'greyk', 'gs', 'hac', 'hani', 'hdmte', 'head', 'hefawi', 'hisn', 'ho', 'hold', 'home', 'hometoda', 'horen', 'horis', 'hr', 'hr15', 'hr15750069h', 'hr15750214h', 'hr15750300h', 'hr15750411h', 'hr15750416h', 'hr15750512h', 'hr15750599h', 'hr15750620h', 'hr15750663h', 'hr15750743h', 'hr15750828h', 'hr15750888h', 'hr15751017h', 'hr15751028h', 'hr15751071h', 'hr15751107h', 'hr15751154h', 'hr15751176h', 'hr15751199h', 'hr15751277h', 'hr15751311h', 'hr15751515h', 'hr15751613h', 'hr15751628h', 'hr15751804h', 'hr15751823h', 'hr15751861h', 'hr15751887h', 'hr15751992h', 'hr15752008h', 'hr15752036h', 'hr15752047h', 'hr15752060h', 'hr15752067h', 'hr15752069h', 'hr15752083h', 'hr15752132h', 'hr15752152h', 'hr15752177h', 'hr15752193h', 'hr15752212h', 'hr15752226h', 'hr15752227h', 'hr15752325h', 'hr15752334h', 'hr15752428h', 'hr15752473h', 'hr15756112h', 'hr15756560h', 'hr15758473h', 'hr15762582h', 'hr15765079h', 'hr15765130h', 'hr15765269h', 'hr15765329h', 'hr15765559h', 'hr15765581h', 'hr15766013h', 'hr15766240h', 'hr15766243h', 'hr15766381h', 'hr15766400h', 'hr15766559h', 'hr15766719h', 'hr15799554g', 'hr16', 'hr16761955t', 'hr16939829c', 'hr16946211c', 'hr16946215c', 'hr1s75088bh', 'hsbc', 'hundr', 'huomenna', 'ibrahin', 'icc', 'ident', 'ierm', 'iiia', 'il', 'ilaimvua', 'ilg694648', 'im', 'in4bl4a91kc206424', 'in4bl4a91kc207122', 'in4bl4a95kc206880', 'in4blaa91kc206942', 'in4blaa93kc205940', 'in4blaa94kc196746', 'in4blaa94kc207552', 'incent', 'incentivesa', 'infin', 'inform', 'ingdom', 'insay2ny5l9400227', 'insay2nyol9400477', 'instal', 'insur', 'insurancea', 'insuranced', 'intern', 'inu', 'invak', 'invalc', 'invoic', 'involc', 'involca', 'involco', 'inyolca', 'ir', 'ira', 'irei', 'ireliya', 'islam', 'item', 'itiv', 'iul', 'iv', 'ivan', 'ivo', 'j', 'jairah', 'japan', 'je', 'jintazaehzkm30097', 'jn6ee6ds3k9062335', 'jn8ay2ny4l9400252', 'jn8ay2ny4l9400350', 'jn8ay2ny4l9400560', 'jn8ay2ny5l9400146', 'jn8ay2ny5l9400342', 'jn8ay2ny5l9400423', 'jn8ay2ny5l9400454', 'jn8ay2ny5l9400471', 'jn8ay2ny5l9400647', 'jn8ay2ny6l9400074', 'jn8ay2ny6l9400270', 'jn8ay2ny6l9400298', 'jn8ay2ny6l9400477', 'jn8ay2nyol9400219', 'jnay2ny5l9400146', 'jnbay2ny4l9400252', 'jnbay2ny4l9400580', 'jnbay2ny5l9400065', 'jnbay2ny5l9400227', 'jnbay2ny5l9400342', 'jnbay2ny5l9400454', 'jnbay2ny6l9100219', 'jnbay2ny6l9400270', 'jnbay2ny6l9400298', 'jnbay2nysl9400065', 'jnbayzny5l9400308', 'jneay2ny5l9400423', 'jngay2ny6l9400074', 'jnoayzny5l9400471', 'jnoayzny5l9400647', 'jnray2ny519400096', 'jnsay2ny5l9400308', 'joshva', 'k', 'k1', 'kad', 'kal', 'kalb', 'kalba', 'kamah', 'kamal', 'kannangara', 'kapadia', 'karunakaran', 'kawa', 'kawan', 'key', 'kh', 'khaimah', 'khaleel', 'khalidir', 'khalidira', 'khalidiya', 'khalidiyn', 'khalldiya', 'khami', 'khan', 'khanah', 'khawla', 'khor', 'khore', 'khorfakkan', 'khuriympathengen', 'kick', 'kilometr', 'kingdom', 'kit', 'kllometr', 'km', 'kr16', 'l', 'lasaood', 'lco', 'le', 'leaf', 'lefer', 'lerm', 'lhasadoo', 'llc', 'lmasadod', 'logist', 'lol', 'lori', 'lpo', 'ltd', 'm833', 'macina', 'madinat', 'mafe', 'mafeoodrumه', 'magamo', 'maicpon', 'mainten', 'mairon', 'majda', 'mall', 'mamasaood', 'mamps۲و', 'manag', 'mando', 'maniraj', 'manshawi', 'market', 'masacod', 'masadod', 'masagod', 'masannd', 'masaoad', 'masaond', 'masaood', 'masaoodautomobilescom', 'masaoog', 'masaoud', 'masasefhtomobil', 'masina', 'masooodcom', 'master', 'mastor', 'mat3', 'maxima', 'mdh8n7adolg689123', 'mdhan7ad4lg690478', 'mdhan7ad6lg689199', 'mdhan7ad6lg689798', 'mdhantad', 'mdhanzad3lg690388', 'mdhanzad4lg690500', 'mdhbn', 'mdhbn2ad3lg703978', 'mdhbn7a02lg704166', 'mdhbn7ad1l6694729', 'mdhbn7ad3cg703978', 'mdhbn7ad3l6690505', 'mdhbn7ad3l6690696', 'mdhbn7ad3lg690231', 'mdhbn7ad3lg690570', 'mdhbn7ad3lg690682', 'mdhbn7ad4lg689587', 'mdhbn7ad4lg690268', 'mdhbn7ad4lg690271', 'mdhbn7ad4lg690450', 'mdhbn7ad4lg690478', 'mdhbn7ad4lg690481', 'mdhbn7ad4lg690500', 'mdhbn7ad4lg690609', 'mdhbn7ad4lg690626', 'mdhbn7ad4lg690836', 'mdhbn7ad4lg690853', 'mdhbn7ad4lg690953', 'mdhbn7ad4lg703309', 'mdhbn7ad4lg703925', 'mdhbn7ad5l6689761', 'mdhbn7ad5lg689761', 'mdhbn7ad5lg689839', 'mdhbn7ad5lg690019', 'mdhbn7ad5lg690196', 'mdhbn7ad5lg702847', 'mdhbn7ad5lg702900', 'mdhbn7ad6lg703781', 'mdhbn7ad7lg689292', 'mdhbn7ad7lg689471', 'mdhbn7ad7lg704180', 'mdhbn7ad7lg704230', 'mdhbn7ad7lg704275', 'mdhbn7ad7lģ689292', 'mdhbn7ad8lg689124', 'mdhbn7ad8lg703135', 'mdhbn7ad8lg703362', 'mdhbn7adalg703460', 'mdhbn7adblg688832', 'mdhbn7adblg703037', 'mdhbn7adelg689526', 'mdhbn7adglg688750', 'mdhbn7adolg689039', 'mdhbn7adolg689123', 'mdhbn7adolg689512', 'mdhbn7adolg689879', 'mdhbn7adolg689994', 'mdhbn7adolg690045', 'mdhbn7adolg690093', 'mdhbn7adolg690126', 'mdhbn7adolg703491', 'mdhbn7adslg690019', 'mdhbn7adslg690196', 'mdhbn7adulg690326', 'mdhbn7adulg690343', 'mdhbn7adulg690570', 'mdhbn7adulg690598', 'mdhbn7adulg690696', 'mdhbn7adulg690729', 'mdhbn7adxlg702925', 'mdhbnad4lg703925', 'mdhbnpad6lg703781', 'mdhbnzad3lg690326', 'mdhbnzad3lg690343', 'mdhbnzad3lg690388', 'mdhbnzad3lg690441', 'mdhbnzad3lg690505', 'mdhbnzad3lg690536', 'mdhbnzad3lg690598', 'mdhbnzad6lg689512', 'mdhbnzad7lg689289', 'mdhbnzadelg688832', 'mdhbnzadolg688750', 'mdhbnzadolg689042', 'mdhbnzadolg689140', 'mdhbnzadolg689199', 'mdhbnzadolg689218', 'mdhbnzadolg689526', 'mdhbnzadolg689560', 'mdhbnzadolg689798', 'mdhbnzadolg689994', 'mdhen', 'mdhon', 'mdhon7ad7lg689289', 'mdhonzad6lg689560', 'mdhonzadolg689039', 'mdhonzadolg690093', 'mdkbn7ad7lg704356', 'mea۳۲۲', 'mehu', 'mention', 'method', 'mexdco', 'microbu', 'mid', 'midhead4lg703309', 'mileag', 'million', 'mint', 'misaoodcom', 'misgood', 'misiood', 'mm', 'mmptt', 'mntbb7a02l6068321', 'mntbb7a9246068402', 'mntbb7a92l6068321', 'mntbb7a92l6068352', 'mntbb7a92l6068447', 'mntbb7a93l6058635', 'mntbb7a93l6068280', 'mntbb7a93l6068313', 'mntbb7a93l6068358', 'mntbb7a93l6068666', 'mntbb7a94l6068286', 'mntbb7a9766065204', 'mntbe7a92l6068447', 'mnteb7a03l6068280', 'mnteb7a03l6068635', 'mnteb7a93l6068313', 'mnteb7a93l6068358', 'mnter7a92l6068402', 'mo41193270901', 'mobil', 'mobll', 'model', 'modinnl', 'mohab', 'mohammad', 'mohbn7ad1lg694665', 'mohbn7ad4lg703553', 'mohbn7adalg703197', 'mohbn7adglg690045', 'mohbn7adulg690682', 'mohd', 'mohdn7ad3lg690536', 'mohmd', 'mohon7ad4lg690450', 'mol', 'mom', 'moon', 'morlada', 'mosooo0', 'mostafa', 'motor', 'mousa', 'mp3', 'mpyاباني', 'mr', 'mucip', 'muhammad', 'mulip', 'multipl', 'mussalai', 'mussalan', 'musscomplex', 'mustafa', 'mx1rbdc18', 'má', 'n', 'n0415415', 'n11004344', 'n12', 'n13', 'n1v110043449', 'na', 'na100777094200002', 'naal', 'nabonxad', 'naeef۰', 'naica', 'naja', 'najci', 'najda', 'najua', 'nalda', 'nama', 'name', 'namo', 'nane', 'nariman', 'nasaoodcom', 'navi', 'ndhbn7ad4lg703553', 'ndhbn7adxlg702925', 'need', 'nemo', 'nestal', 'net', 'new', 'ng', 'ngv02151504', 'ngv02151514', 'ngv02151529', 'ngv90117834', 'nic', 'nicoletti', 'nii11004344', 'niiv010059186', 'niiv11004344', 'niiv21000306', 'niiw210003065', 'nijv11004344', 'nile', 'nilsar', 'nin210003065', 'ninetyeight', 'ninetyseven', 'nisgan', 'nishad', 'nissam', 'nissan', 'nissanalmasanndaulnornhilo', 'nitv110043550', 'niv21000306', 'niv210003065', 'niv90001545', 'nk', 'nm', 'nmfx35', 'no', 'no137', 'noenailmasaoodcom', 'nomailmasaoodcom', 'nosal', 'note', 'novemb', 'nsale', 'nuinder', 'number', 'nv110043449', 'nyat', 'oac', 'obaid', 'oh', 'ohabi', 'om1', 'oma', 'one', 'oneeweep', 'oooooo', 'optdela', 'optionsdeliveri', 'optionsdellveri', 'order', 'origin', 'origl', 'os', 'ost', 'ot', 'otaiba', 'own', 'p0', 'pa', 'page', 'pagg', 'paid', 'panol', 'parg', 'pari', 'parol', 'paron', 'passeng', 'passengers5', 'patal', 'patol', 'patrol', 'payabl', 'paymen', 'paymeni', 'payment', 'pc', 'pdc', 'pearl', 'pelrol', 'period', 'person', 'personamir', 'petrol', 'pg', 'pg301', 'philescom', 'pick', 'pillai', 'plan', 'plate', 'platinum', 'pleas', 'plosk', 'po', 'pobax', 'pobox', 'podcom', 'poni', 'post', 'pot', 'powon', 'pr25115295a', 'pr25130675a', 'pr25130716a', 'pr25130815a', 'pr251316sia', 'pr25131725a', 'pr25131744a', 'pr25131805a', 'pr3ء', 'pran', 'premium', 'pressden', 'prica', 'price', 'privat', 'proprietorship', 'purchas', 'px', 'qab', 'qac', 'qm', 'qm1', 'qmi', 'qo', 'qr25', 'qti', 'quantiti', 'quot', 'qur', 'quwain', 'quwaja', 'r', 'r0011284', 'r0030911', 'r0032030', 'r0070047', 'r0300556', 'r9rt۸', 'ra', 'radio', 'rafih', 'ral', 'ralo', 'rame', 'rasa', 'rate', 'ratox', 'rc1025', 're', 'receifit', 'receipt', 'receiv', 'ref', 'ref1', 'ref3', 'refer', 'reg', 'registr', 'registralian', 'registrallon', 'registraton', 'reglslrallon', 'reigh۸', 'rel', 'remark', 'remitt', 'rent', 'rer', 'resal', 'respect', 'rest', 'retail', 'retailcr', 'reya', 'rfم', 'riyo', 'rl', 'ro070047', 'road', 'robox', 'rol', 'rolad', 'rolcd', 'roof', 'rootmustah', 'rr15765240h', 'rsa', 'rsf', 'rti', 'ruto', 's22', 's72qm1k20', 'safeti', 'sale', 'saleskhalidaya', 'salesman', 'salo', 'salt', 'sara', 'satwa', 'se', 'sebastianph026455855', 'secur', 'sedan', 'seelig', 'sell', 'sentra', 'servic', 'seven', 'sh', 'sh4j', 'shahoud', 'shani', 'sharjah', 'shashika', 'shell', 'shib', 'ship', 'shj', 'shown', 'showroom', 'showrram', 'showrrom', 'si', 'signatur', 'sinclg', 'singl', 'siondard', 'sir', 'six', 'sixti', 'sixtyseven', 'sj', 'sl', 'slock', 'sole', 'son', 'sorm', 'special', 'sr', 'sr2qm1k', 'sr2qm1k20', 'ss', 'st', 'standard', 'star', 'stock', 'strictli', 'string', 'style', 'sub', 'subtot', 'sulaiman', 'summar', 'summari', 'sunni', 'sunt', 'suv', 'sv', 'svat', 'sy2qm', 'sy2qm1k20', 'syedmanm', 't1', 't119815', 't533082', 'taip', 'tal', 'tan', 'tarron', 'tat', 'tatt1', 'tauro', 'tax', 'tcl02', 'te', 'technic', 'tel', 'tel02', 'tel04', 'tel8844200', 'telex', 'ten', 'tender', 'ter', 'term', 'tet', 'thalland', 'thousand', 'three', 'ti', 'tilm', 'tim', 'tmatiti', 'tok', 'tok971', 'tol', 'tol02555041', 'tonder', 'torpecent', 'tot971', 'total', 'totala', 'tr', 'trade', 'tradein', 'transmiss', 'transpar', 'transport', 'transten', 'tri', 'trim', 'trn', 'trvo', 'tryo', 'tum', 'two', 'type', 'typo', 'u', 'uac', 'uae', 'umm', 'unc', 'unday2ny7l9402769', 'unil', 'unit', 'univers', 'unlimit', 'unsay2ny5l9400096', 'upt', 'ur', 'urit', 'use', 'usman', 'uw1h', 'v', 'v1', 'v2811', 'v8', 'va', 'vaa19', 'vacina', 'vae', 'valu', 'valuo', 'valvo', 'vanant', 'varia', 'variant', 'vasaood', 'vat', 'vat5a', 'vebicl', 'veh', 'vehicl', 'vehiclo', 'vehigl', 'vehldo', 'verif', 'verifi', 'vfi۹۹۹۹', 'vi658387737a', 'via', 'viiiia', 'viitoevqulo', 'vin', 'vip', 'visa', 'vivaa110', 'vk50', 'vk56', 'vk56308179a', 'vk56308632a', 'vk56386523a', 'vk56386572a', 'vk56386691a', 'vk56386880a', 'vk56386891a', 'vk56387054a', 'vk56387301a', 'vk56387372a', 'vk56387486a', 'vk56387628a', 'vk56387737a', 'vk56387984a', 'vk56387985a', 'vk56388179a', 'vk56388424a', 'vk56388632a', 'vk56388634a', 'vk56389601a', 'vk56400463a', 'vk58', 'vk58387628a', 'vk58387984a', 'vk58388424a', 'vk583888b2a', 'vks6', 'vks6388882a', 'vksg', 'vksnedia', 'vm', 'vmnm', 'vo', 'vohlca', 'vol', 'vol1', 'vol1711', 'vol7700', 'voll', 'voluo', 'vq35', 'vq37', 'vr19999lalo', 'vrtoev', 'vsb', 'vsb00', 'vsb4066630', 'vsb408663', 'vsb408683', 'vsbno', 'vsbnoa1514', 'vsbo', 'vst30ev', 'vx56', 'w2', 'wa', 'wabi', 'wacina', 'wae', 'wafda', 'wahda', 'wahsil', 'walid', 'warehous', 'warranli', 'warranti', 'warrantya', 'was000', 'wbloat', 'webalta', 'websit', 'wer', 'wheel', 'whita', 'white', 'wide', 'wien', 'wil', 'without', 'wobsit', 'wobsllo', 'wohi', 'work', 'wou', 'ww', 'www', 'wwwbi', 'wwwdb2237522888', 'wwwmaaoodcom', 'wwwnasarabuchablcom', 'wwwniscursbudrabioom', 'wwwnisgan', 'wwwnissan', 'wwwnissanabuchalcom', 'wwwnissanabudhabicom', 'wwwnissanalmasagodautomobilascom', 'wwwnissanalmasaoodautomobilescom', 'wwwnissanarabianautomobilescom', 'wwwnissanarabianautomoblloscom', 'wwwnissanarablanautomobilescom', 'wwwnissararabiagautomobilescom', 'wwwnissarrabudhabicom', 'wwwnissarrabudhabloom', 'wwwnissunarablanautomobilascom', 'wwwnlgsanalmosaoodautomobilo', 'wwwnlssonorablanautomobilescom', 'wwwurah', 'x', 'xco', 'ya', 'yat', 'year', 'yearunlimit', 'yo', 'yone', 'z', 'zakarya', 'zaki', 'zard', 'zarec', 'zaro', 'zavec', 'zay', 'zayat', 'zayec', 'zeg41r19', 'zero', 'zone', 'zoro', 'вавҷ4', 'отечер', 'آذن', 'آلف', 'أ', 'أؤكد', 'أبوخلي', 'أبوظبي', 'أبوظهي', 'أبوهی', 'أدونيا', 'أرع', 'أعلاه', 'أعم', 'ألف', 'أم', 'أو', 'أوامر', 'أوتوموتيف', 'إضافية', 'إلى', 'إن', 'إيداع', 'إيصال', 'إيصالا', 'ا', 'ااو', 'ابة', 'ابوظبي', 'ابوظبی', 'ابوظہب', 'اتار', 'اتومبیل', 'اذن', 'اريا', 'از', 'اس', 'اسبق', 'استلام', 'اسم', 'اعم', 'ال', 'الأحدة', 'الأخطاء', 'الأسم', 'الأمارة', 'الأمم', 'الأمن', 'الأولى', 'الأ۹', 'الإلكترولي', 'الإمارا', 'الإمارات', 'الإمارة', 'الات', 'الاتالدفع', 'الارت', 'الامارات', 'الامارة', 'البا', 'البائع', 'الببها', 'البريد', 'البنا', 'البنك', 'البيع', 'البين', 'التاريخ', 'التان', 'التجزئة', 'التجزنة', 'التحقق', 'التحويلات', 'التسلسلي', 'التسليم', 'التمويل', 'التوقيع', 'التي', 'الجدة', 'الجده', 'الجلدية', 'الح', 'الحره', 'الحساب', 'الحسابات', 'الحسية', 'الخالدية', 'الخالية', 'الخور', 'الخيمة', 'الخيمفاayantabaigموونان', 'الدادية', 'الدر', 'الدفع', 'الدفعة', 'الدولي', 'الذيد', 'الرئيسي', 'الرئیسی', 'الرق', 'الرقم', 'الريال', 'الريان', 'السجدة', 'السطوة', 'السعر', 'السعود', 'السلبية', 'السيه', 'الشارقة', 'الشراء', 'الشركة', 'الشيخ', 'الصافي', 'الصفحة', 'الضريبة', 'الطالحية', 'الطلب', 'العبن', 'العربية', 'العملاء', 'العميل', 'العميلجهة', 'العنوان', 'العين', 'الغد', 'الف', 'الفاتورة', 'الفاتوره', 'الفجيرة', 'الفحص', 'الفرشي', 'الفرع', 'الفرعي', 'الفروع', 'الف۱۹۹۹۹', 'القاعدة', 'القصص', 'القصيص', 'القيمة', 'القيوين', 'الكمية', 'اللجدة', 'اللون', 'الم', 'المال', 'المبرم', 'المبلغ', 'المبيعا', 'المبيعات', 'المبيعت', 'المتبقي', 'المتحدة', 'المتحده', 'المجموع', 'المحرك', 'المخزون', 'المذكور', 'المذكورة', 'المرجع', 'المركبات', 'المركبة', 'المركية', 'المستثناه', 'المستودا', 'المسدود', 'المسعود', 'المسممود', 'المقدم', 'الملحدة', 'الملحده', 'الملف', 'المللنعود', 'الملليعود', 'المنتج', 'النجدة', 'النهائي', 'النية', 'الهيحل', 'الهيكل', 'الوثام', 'الوثيقة', 'الوعود', 'الوکیل', 'الى', 'ام', 'امارات', 'اماراتو', 'امر', 'ان', 'اننا', 'اوتوموتيف', 'اوطpo', 'اية', 'اگرا', 'ایرنی', 'ایم', 'ب', 'با', 'بار', 'بارات', 'بالدرهم', 'بالدرهمbalanc', 'بالدرهمvat', 'بالدفع', 'بتاری', 'بتفويض', 'بحالة', 'بحيارات', 'برفبا', 'برقيأ', 'برقية', 'برنبا', 'بن', 'بند', 'به', 'بي', 'بيالا', 'ة', 'تا', 'تاریخ', 'تاكل', 'تالار', 'تذن', 'تردينا', 'ترمہ', 'تسجيل', 'تلفون', 'تلقاها', 'تلقينا', 'تلکس', 'تم', 'تنفيذي', 'توقيع', 'تی', 'ثلاثمائة', 'ثمانية', 'جده', 'جعهعلاقwinartman', 'جميع', 'جنات', 'جهة', 'جيدة', 'جی', 'حالة', 'حبه', 'حدمجانها', 'حساب', 'حمم', 'خصم', 'خورفكان', 'خيrnو', 'د', 'دبي', 'دبی', 'دددا', 'در', 'درo', 'درهم', 'دمم', 'دمو3', 'ده', 'دها', 'دو', 'دولة', 'ذ200', 'ذكر', 'ذم', 'ذم0', 'ذمم', 'ذهم', 'رأس', 'را', 'رايد', 'رح', 'رقم', 'زايد', 'سبعة', 'سعر', 'سلسله', 'سم', 'سواه', 'شارع', 'شامل', 'شركة', 'شیر', 'ص', 'صاب', 'صابane', 'صابome', 'صاد', 'صافي', 'صالب', 'صالها', 'صان', 'صب', 'صبan', 'صبifei', 'صبا', 'صدها', 'صعععبداد', 'صفر', 'صلب', 'صندوق', 'ضريبة', 'طابا', 'طال', 'طالبا', 'طريقة', 'طلب', 'ع01', 'عالم', 'عجمان', 'عرظ', 'عصفي', 'على', 'عم', 'غير', 'فاتورة', 'فادي', 'فاك', 'فاكس', 'فاكس۱۱ogi', 'فاكس۱۸۰۸۱۹', 'فالمسيا', 'فاکس', 'فاکي', 'فحص', 'فريق', 'في', 'فکس', 'قائلا', 'قالغان', 'قانع', 'قبل', 'قسم', 'قيمة', 'كلباء', 'كيفية', 'ل', 'لا', 'لاتعبوني', 'لاتها1vv', 'لالا', 'لبانم1', 'لبرشی', 'للامارات', 'للبللسيارات', 'للسيارات', 'للعربية', 'للمليارات', 'للوثيقة', 'لم', 'له', 'لیا', 'م', 'ما', 'ماب', 'ماتف۱iii', 'ماد', 'ماستور', 'مافي', 'ماكv', 'ماكللل', 'ماكيا', 'ماله', 'مالها', 'مانغا', 'مانها۰۹۳۸۸۸۳۲۳', 'ماکسلا', 'مب', 'مبالغ', 'مترو', 'مح', 'محمد', 'محيلة', 'مد', 'مدتها', 'مدرن', 'مدفوعة', 'مدير', 'مديلة', 'مدينة', 'مذكرة', 'مرد', 'مسؤول', 'مساعد', 'مستحق', 'مشرف', 'مع', 'معرض', 'معلومات', 'ملاحظات', 'ملاحظایت', 'مم', 'ممmoutp', 'ممته', 'مملب', 'ممهملم۰۹r', 'من', 'منبه', 'مندوب', 'مهجعاله', 'مواصفات', 'مول', 'ناک', 'ناکس', 'نبوظبي', 'نبوهي', 'نسبة', 'نسخة', 'نم', 'نکی', 'هاتف', 'هاتف1uiii', 'هاتفvfi۹۹۹۹', 'هاتفا', 'هاتفهلا', 'هاتف۰۰', 'هاتف۱۹۹۹۹', 'هاتقار00aitt', 'هاتل', 'هاتن', 'هاته', 'هاته۱۷۷۲۰۰۰', 'هاجسه', 'هاكس', 'هاكسmr', 'هاكس۸۸۹۳۵', 'هال', 'هالغ', 'هالف', 'هالفر۱۰۰ه', 'هاله', 'هاه', 'هاکس', 'هذه', 'و', 'وr', 'وا69', 'واتای', 'والمحذوفات', 'وتسعون', 'وخليج', 'وخمسمائة', 'ور', 'وسبعة', 'وسبعمائة', 'وستون', 'وقت', 'وكلف', 'وليد', 'ومائتان', 'يجوز', 'يرجى', 'يسلممل', 'ينا', 'پاکولو', 'کروليه', 'کسی', 'که', 'کوا', '۰۲۱', '۰۲۱۲۲۰۰۰', '۰۲۱۷۷۲۰۰۰', '۰۲۱۷۸۰۸۱۹', '۰۲۸۳۲۳', '۰۹۱۱۱', '۰۹۱۷۱۱۴', '۱', '۱hir', '۱viiii1', '۱viiiia', '۱۱', '۱۱oew', '۱۱۹۳', '۱۲۱', '۱۵۰۹', '۱۵۷', '۱۷۲۲۲۰۰۰۲', '۱۷۲۲۲۰۰۲', '۱۷۷۲', '۱۷۷۲۰۰۰', '۱۷۷۲۰۰۰۰۲', '۱۷۷۴۰۰', '۱۷۸۰', '۱۷۸۰۸۱۹', '۱۷۸۰۸۹', '۱۷۸۲۱', '۱۷۹۹۵۲۲۰۲', '۱۸', '۱۸۰۸۱۹', '۱۸۰۹', '۱۸۰۹۱۹', '۱۸۳۵۱', '۱۹', '۱۹f', '۱۹۹۹۹', '۲', '۲۰', '۲۰۰', '۲۱۲۸', '۲۱۷۸۰۸۱۹', '۲۲۲', '۲۲۲۶۹', '۲۲۲۹', '۲۳o۸', '۲۹۰', '۲۹۰۲۲۲۲', '۲۹۰۲۲۲۲۰۹', '۲۹۰۲۸۲۸04', '۲۹۰۹۱۱۱', '۲۹۰۹۲۲۲04', '۲۹۰۹۲۲۲۱۰', '۲۹۵', '۲۹۵۲۲۲۲۰۹', '۲۹۵۲۲۲۲۱۹', '۲۹۵۲۸۲۸04', '۲۹۵۲۸۲۸۰۹', '۳', '۳۰', '۳۱۲فبوظبياحم', '۳۱۷۸۰', '۳۲', '۳۲r', '۳۲۲', '۳۹۵', '۴rf', '۴۲', '۵۸۶۰', '۷۲۱۱۰۶۷۲', '۷۲۱۹۰۷۰۲', '۷۲۱۹۹۹۹۰۲', '۷۳۹۹۹۹۹۰۲', '۸۱', '۸۱۹', '۸۴۲۲', '۸۸', '۸۸۰۲', '۸۸۶۸۳۲۲', '۸۸۶۸۴۲۲', '۸۸۸۱۲', '۸۸۸۲۲۲۰۲', '۸۸۸۲۲۲۱۰۲', '۸۸۸۳', '۸۸۸۳۲', '۸۸۹۲۰۰۰۲', '۸۹', '۹irهاشنبه', '۹rnnnrrr', '۹۷', '۹۷۹۹۵۲۳۰۲', '۹۹۹۹', 'ఈ', 'し', 'ㄴ']\n"
          ],
          "name": "stdout"
        }
      ]
    },
    {
      "cell_type": "code",
      "metadata": {
        "id": "dy5Fg9jK4Lwj"
      },
      "source": [
        "y=data[\"Label\"]"
      ],
      "execution_count": null,
      "outputs": []
    },
    {
      "cell_type": "code",
      "metadata": {
        "colab": {
          "base_uri": "https://localhost:8080/"
        },
        "id": "OaO0tW-y5rKY",
        "outputId": "8964aee8-3b7b-4d67-d3bd-48c729b79809"
      },
      "source": [
        "y.shape"
      ],
      "execution_count": null,
      "outputs": [
        {
          "output_type": "execute_result",
          "data": {
            "text/plain": [
              "(32,)"
            ]
          },
          "metadata": {
            "tags": []
          },
          "execution_count": 25
        }
      ]
    },
    {
      "cell_type": "code",
      "metadata": {
        "colab": {
          "base_uri": "https://localhost:8080/",
          "height": 35
        },
        "id": "MK66AJxx5vrh",
        "outputId": "fec54df1-fe70-4b7e-94f4-04dc2d902dbe"
      },
      "source": [
        "y[0]"
      ],
      "execution_count": null,
      "outputs": [
        {
          "output_type": "execute_result",
          "data": {
            "application/vnd.google.colaboratory.intrinsic+json": {
              "type": "string"
            },
            "text/plain": [
              "'delivery note'"
            ]
          },
          "metadata": {
            "tags": []
          },
          "execution_count": 26
        }
      ]
    },
    {
      "cell_type": "code",
      "metadata": {
        "id": "htvh99HI5w2I"
      },
      "source": [
        ""
      ],
      "execution_count": null,
      "outputs": []
    }
  ]
}