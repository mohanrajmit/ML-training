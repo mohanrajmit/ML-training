{
  "nbformat": 4,
  "nbformat_minor": 0,
  "metadata": {
    "kernelspec": {
      "display_name": "Python 3",
      "language": "python",
      "name": "python3"
    },
    "language_info": {
      "codemirror_mode": {
        "name": "ipython",
        "version": 3
      },
      "file_extension": ".py",
      "mimetype": "text/x-python",
      "name": "python",
      "nbconvert_exporter": "python",
      "pygments_lexer": "ipython3",
      "version": "3.6.3"
    },
    "colab": {
      "name": "01_11.ipynb",
      "provenance": [],
      "toc_visible": true,
      "include_colab_link": true
    }
  },
  "cells": [
    {
      "cell_type": "markdown",
      "metadata": {
        "id": "view-in-github",
        "colab_type": "text"
      },
      "source": [
        "<a href=\"https://colab.research.google.com/github/mohanrajmit/ML-training/blob/master/Data_cleaning_sentiment.ipynb\" target=\"_parent\"><img src=\"https://colab.research.google.com/assets/colab-badge.svg\" alt=\"Open In Colab\"/></a>"
      ]
    },
    {
      "cell_type": "markdown",
      "metadata": {
        "id": "MGbHZHlm1RT5",
        "colab_type": "text"
      },
      "source": [
        "# NLP Basics: Implementing a pipeline to clean text"
      ]
    },
    {
      "cell_type": "markdown",
      "metadata": {
        "id": "G2omGVzk1RT8",
        "colab_type": "text"
      },
      "source": [
        "### Pre-processing text data\n",
        "\n",
        "Cleaning up the text data is necessary to highlight attributes that you're going to want your machine learning system to pick up on. Cleaning (or pre-processing) the data typically consists of a number of steps:\n",
        "1. **Remove punctuation**\n",
        "2. **Tokenization**\n",
        "3. **Remove stopwords**\n",
        "4. Lemmatize/Stem\n",
        "\n",
        "The first three steps are covered in this chapter as they're implemented in pretty much any text cleaning pipeline. Lemmatizing and stemming are covered in the next chapter as they're helpful but not critical."
      ]
    },
    {
      "cell_type": "code",
      "metadata": {
        "id": "_-5icCrnvteJ",
        "colab_type": "code",
        "colab": {
          "base_uri": "https://localhost:8080/",
          "height": 119
        },
        "outputId": "8b6eba4d-5c64-4abf-90f6-79f73913d3bb"
      },
      "source": [
        "!git clone https://github.com/mohanrajmit/Sentiment-Analsysis.git"
      ],
      "execution_count": 1,
      "outputs": [
        {
          "output_type": "stream",
          "text": [
            "Cloning into 'Sentiment-Analsysis'...\n",
            "remote: Enumerating objects: 9, done.\u001b[K\n",
            "remote: Counting objects:  11% (1/9)\u001b[K\rremote: Counting objects:  22% (2/9)\u001b[K\rremote: Counting objects:  33% (3/9)\u001b[K\rremote: Counting objects:  44% (4/9)\u001b[K\rremote: Counting objects:  55% (5/9)\u001b[K\rremote: Counting objects:  66% (6/9)\u001b[K\rremote: Counting objects:  77% (7/9)\u001b[K\rremote: Counting objects:  88% (8/9)\u001b[K\rremote: Counting objects: 100% (9/9)\u001b[K\rremote: Counting objects: 100% (9/9), done.\u001b[K\n",
            "remote: Compressing objects:  12% (1/8)\u001b[K\rremote: Compressing objects:  25% (2/8)\u001b[K\rremote: Compressing objects:  37% (3/8)\u001b[K\rremote: Compressing objects:  50% (4/8)\u001b[K\rremote: Compressing objects:  62% (5/8)\u001b[K\rremote: Compressing objects:  75% (6/8)\u001b[K\rremote: Compressing objects:  87% (7/8)\u001b[K\rremote: Compressing objects: 100% (8/8)\u001b[K\rremote: Compressing objects: 100% (8/8), done.\u001b[K\n",
            "remote: Total 9 (delta 0), reused 0 (delta 0), pack-reused 0\u001b[K\n",
            "Unpacking objects: 100% (9/9), done.\n"
          ],
          "name": "stdout"
        }
      ]
    },
    {
      "cell_type": "code",
      "metadata": {
        "id": "0gbNa4xv1RT9",
        "colab_type": "code",
        "colab": {
          "base_uri": "https://localhost:8080/",
          "height": 204
        },
        "outputId": "9d07ba1c-f171-4bd3-ede7-dfa46ea668d9"
      },
      "source": [
        "import pandas as pd\n",
        "pd.set_option('display.max_colwidth', 300)\n",
        "\n",
        "data = pd.read_csv(\"/content/Sentiment-Analsysis/train.csv\")\n",
        "#data.columns = ['label', 'body_text']\n",
        "\n",
        "data.head()"
      ],
      "execution_count": 4,
      "outputs": [
        {
          "output_type": "execute_result",
          "data": {
            "text/html": [
              "<div>\n",
              "<style scoped>\n",
              "    .dataframe tbody tr th:only-of-type {\n",
              "        vertical-align: middle;\n",
              "    }\n",
              "\n",
              "    .dataframe tbody tr th {\n",
              "        vertical-align: top;\n",
              "    }\n",
              "\n",
              "    .dataframe thead th {\n",
              "        text-align: right;\n",
              "    }\n",
              "</style>\n",
              "<table border=\"1\" class=\"dataframe\">\n",
              "  <thead>\n",
              "    <tr style=\"text-align: right;\">\n",
              "      <th></th>\n",
              "      <th>id</th>\n",
              "      <th>label</th>\n",
              "      <th>tweet</th>\n",
              "    </tr>\n",
              "  </thead>\n",
              "  <tbody>\n",
              "    <tr>\n",
              "      <th>0</th>\n",
              "      <td>1</td>\n",
              "      <td>0</td>\n",
              "      <td>#fingerprint #Pregnancy Test https://goo.gl/h1MfQV #android #apps #beautiful #cute #health #igers #iphoneonly #iphonesia #iphone</td>\n",
              "    </tr>\n",
              "    <tr>\n",
              "      <th>1</th>\n",
              "      <td>2</td>\n",
              "      <td>0</td>\n",
              "      <td>Finally a transparant silicon case ^^ Thanks to my uncle :) #yay #Sony #Xperia #S #sonyexperias… http://instagram.com/p/YGEt5JC6JM/</td>\n",
              "    </tr>\n",
              "    <tr>\n",
              "      <th>2</th>\n",
              "      <td>3</td>\n",
              "      <td>0</td>\n",
              "      <td>We love this! Would you go? #talk #makememories #unplug #relax #iphone #smartphone #wifi #connect... http://fb.me/6N3LsUpCu</td>\n",
              "    </tr>\n",
              "    <tr>\n",
              "      <th>3</th>\n",
              "      <td>4</td>\n",
              "      <td>0</td>\n",
              "      <td>I'm wired I know I'm George I was made that way ;) #iphone #cute #daventry #home http://instagr.am/p/Li_5_ujS4k/</td>\n",
              "    </tr>\n",
              "    <tr>\n",
              "      <th>4</th>\n",
              "      <td>5</td>\n",
              "      <td>1</td>\n",
              "      <td>What amazing service! Apple won't even talk to me about a question I have unless I pay them $19.95 for their stupid support!</td>\n",
              "    </tr>\n",
              "  </tbody>\n",
              "</table>\n",
              "</div>"
            ],
            "text/plain": [
              "   id  ...                                                                                                                                tweet\n",
              "0   1  ...     #fingerprint #Pregnancy Test https://goo.gl/h1MfQV #android #apps #beautiful #cute #health #igers #iphoneonly #iphonesia #iphone\n",
              "1   2  ...  Finally a transparant silicon case ^^ Thanks to my uncle :) #yay #Sony #Xperia #S #sonyexperias… http://instagram.com/p/YGEt5JC6JM/\n",
              "2   3  ...          We love this! Would you go? #talk #makememories #unplug #relax #iphone #smartphone #wifi #connect... http://fb.me/6N3LsUpCu\n",
              "3   4  ...                     I'm wired I know I'm George I was made that way ;) #iphone #cute #daventry #home http://instagr.am/p/Li_5_ujS4k/\n",
              "4   5  ...         What amazing service! Apple won't even talk to me about a question I have unless I pay them $19.95 for their stupid support!\n",
              "\n",
              "[5 rows x 3 columns]"
            ]
          },
          "metadata": {
            "tags": []
          },
          "execution_count": 4
        }
      ]
    },
    {
      "cell_type": "markdown",
      "metadata": {
        "id": "zhEMkqbj1RUG",
        "colab_type": "text"
      },
      "source": [
        "### Remove punctuation"
      ]
    },
    {
      "cell_type": "code",
      "metadata": {
        "id": "Xiy9xiqk1RUI",
        "colab_type": "code",
        "colab": {
          "base_uri": "https://localhost:8080/",
          "height": 35
        },
        "outputId": "f4dd2030-9973-44e7-e683-ffef9fa3dc19"
      },
      "source": [
        "import string\n",
        "string.punctuation"
      ],
      "execution_count": 5,
      "outputs": [
        {
          "output_type": "execute_result",
          "data": {
            "application/vnd.google.colaboratory.intrinsic+json": {
              "type": "string"
            },
            "text/plain": [
              "'!\"#$%&\\'()*+,-./:;<=>?@[\\\\]^_`{|}~'"
            ]
          },
          "metadata": {
            "tags": []
          },
          "execution_count": 5
        }
      ]
    },
    {
      "cell_type": "code",
      "metadata": {
        "id": "DIvN2l5u1RUM",
        "colab_type": "code",
        "colab": {
          "base_uri": "https://localhost:8080/",
          "height": 34
        },
        "outputId": "f58f6d07-facf-4439-c38a-1876e6c025cc"
      },
      "source": [
        "\"I like NLP.\" == \"I like NLP\""
      ],
      "execution_count": 6,
      "outputs": [
        {
          "output_type": "execute_result",
          "data": {
            "text/plain": [
              "False"
            ]
          },
          "metadata": {
            "tags": []
          },
          "execution_count": 6
        }
      ]
    },
    {
      "cell_type": "code",
      "metadata": {
        "id": "UKHBC4yB1RUP",
        "colab_type": "code",
        "colab": {
          "base_uri": "https://localhost:8080/",
          "height": 272
        },
        "outputId": "08edddba-548a-4ec7-9c00-f0b62e7b5352"
      },
      "source": [
        "def remove_punct(text):\n",
        "    text_nopunct = \"\".join([char for char in text if char not in string.punctuation])\n",
        "    return text_nopunct\n",
        "\n",
        "data['tweet_clean'] = data['tweet'].apply(lambda x: remove_punct(x))\n",
        "\n",
        "data.head()"
      ],
      "execution_count": 8,
      "outputs": [
        {
          "output_type": "execute_result",
          "data": {
            "text/html": [
              "<div>\n",
              "<style scoped>\n",
              "    .dataframe tbody tr th:only-of-type {\n",
              "        vertical-align: middle;\n",
              "    }\n",
              "\n",
              "    .dataframe tbody tr th {\n",
              "        vertical-align: top;\n",
              "    }\n",
              "\n",
              "    .dataframe thead th {\n",
              "        text-align: right;\n",
              "    }\n",
              "</style>\n",
              "<table border=\"1\" class=\"dataframe\">\n",
              "  <thead>\n",
              "    <tr style=\"text-align: right;\">\n",
              "      <th></th>\n",
              "      <th>id</th>\n",
              "      <th>label</th>\n",
              "      <th>tweet</th>\n",
              "      <th>tweet_clean</th>\n",
              "    </tr>\n",
              "  </thead>\n",
              "  <tbody>\n",
              "    <tr>\n",
              "      <th>0</th>\n",
              "      <td>1</td>\n",
              "      <td>0</td>\n",
              "      <td>#fingerprint #Pregnancy Test https://goo.gl/h1MfQV #android #apps #beautiful #cute #health #igers #iphoneonly #iphonesia #iphone</td>\n",
              "      <td>fingerprint Pregnancy Test httpsgooglh1MfQV android apps beautiful cute health igers iphoneonly iphonesia iphone</td>\n",
              "    </tr>\n",
              "    <tr>\n",
              "      <th>1</th>\n",
              "      <td>2</td>\n",
              "      <td>0</td>\n",
              "      <td>Finally a transparant silicon case ^^ Thanks to my uncle :) #yay #Sony #Xperia #S #sonyexperias… http://instagram.com/p/YGEt5JC6JM/</td>\n",
              "      <td>Finally a transparant silicon case  Thanks to my uncle  yay Sony Xperia S sonyexperias… httpinstagramcompYGEt5JC6JM</td>\n",
              "    </tr>\n",
              "    <tr>\n",
              "      <th>2</th>\n",
              "      <td>3</td>\n",
              "      <td>0</td>\n",
              "      <td>We love this! Would you go? #talk #makememories #unplug #relax #iphone #smartphone #wifi #connect... http://fb.me/6N3LsUpCu</td>\n",
              "      <td>We love this Would you go talk makememories unplug relax iphone smartphone wifi connect httpfbme6N3LsUpCu</td>\n",
              "    </tr>\n",
              "    <tr>\n",
              "      <th>3</th>\n",
              "      <td>4</td>\n",
              "      <td>0</td>\n",
              "      <td>I'm wired I know I'm George I was made that way ;) #iphone #cute #daventry #home http://instagr.am/p/Li_5_ujS4k/</td>\n",
              "      <td>Im wired I know Im George I was made that way  iphone cute daventry home httpinstagrampLi5ujS4k</td>\n",
              "    </tr>\n",
              "    <tr>\n",
              "      <th>4</th>\n",
              "      <td>5</td>\n",
              "      <td>1</td>\n",
              "      <td>What amazing service! Apple won't even talk to me about a question I have unless I pay them $19.95 for their stupid support!</td>\n",
              "      <td>What amazing service Apple wont even talk to me about a question I have unless I pay them 1995 for their stupid support</td>\n",
              "    </tr>\n",
              "  </tbody>\n",
              "</table>\n",
              "</div>"
            ],
            "text/plain": [
              "   id  ...                                                                                                              tweet_clean\n",
              "0   1  ...         fingerprint Pregnancy Test httpsgooglh1MfQV android apps beautiful cute health igers iphoneonly iphonesia iphone\n",
              "1   2  ...      Finally a transparant silicon case  Thanks to my uncle  yay Sony Xperia S sonyexperias… httpinstagramcompYGEt5JC6JM\n",
              "2   3  ...                We love this Would you go talk makememories unplug relax iphone smartphone wifi connect httpfbme6N3LsUpCu\n",
              "3   4  ...                          Im wired I know Im George I was made that way  iphone cute daventry home httpinstagrampLi5ujS4k\n",
              "4   5  ...  What amazing service Apple wont even talk to me about a question I have unless I pay them 1995 for their stupid support\n",
              "\n",
              "[5 rows x 4 columns]"
            ]
          },
          "metadata": {
            "tags": []
          },
          "execution_count": 8
        }
      ]
    },
    {
      "cell_type": "markdown",
      "metadata": {
        "id": "Vibo4yoE1RUS",
        "colab_type": "text"
      },
      "source": [
        "### Tokenization"
      ]
    },
    {
      "cell_type": "code",
      "metadata": {
        "id": "3BcNfYE21RUT",
        "colab_type": "code",
        "colab": {
          "base_uri": "https://localhost:8080/",
          "height": 289
        },
        "outputId": "3fdf14a8-d383-46a6-9e39-fcdd2f9704b4"
      },
      "source": [
        "import re\n",
        "\n",
        "def tokenize(text):\n",
        "    tokens = re.split('\\W+', text)\n",
        "    return tokens\n",
        "\n",
        "data['tweet_tokenized'] = data['tweet_clean'].apply(lambda x: tokenize(x.lower()))\n",
        "\n",
        "data.head()"
      ],
      "execution_count": 9,
      "outputs": [
        {
          "output_type": "execute_result",
          "data": {
            "text/html": [
              "<div>\n",
              "<style scoped>\n",
              "    .dataframe tbody tr th:only-of-type {\n",
              "        vertical-align: middle;\n",
              "    }\n",
              "\n",
              "    .dataframe tbody tr th {\n",
              "        vertical-align: top;\n",
              "    }\n",
              "\n",
              "    .dataframe thead th {\n",
              "        text-align: right;\n",
              "    }\n",
              "</style>\n",
              "<table border=\"1\" class=\"dataframe\">\n",
              "  <thead>\n",
              "    <tr style=\"text-align: right;\">\n",
              "      <th></th>\n",
              "      <th>id</th>\n",
              "      <th>label</th>\n",
              "      <th>tweet</th>\n",
              "      <th>tweet_clean</th>\n",
              "      <th>tweet_tokenized</th>\n",
              "    </tr>\n",
              "  </thead>\n",
              "  <tbody>\n",
              "    <tr>\n",
              "      <th>0</th>\n",
              "      <td>1</td>\n",
              "      <td>0</td>\n",
              "      <td>#fingerprint #Pregnancy Test https://goo.gl/h1MfQV #android #apps #beautiful #cute #health #igers #iphoneonly #iphonesia #iphone</td>\n",
              "      <td>fingerprint Pregnancy Test httpsgooglh1MfQV android apps beautiful cute health igers iphoneonly iphonesia iphone</td>\n",
              "      <td>[fingerprint, pregnancy, test, httpsgooglh1mfqv, android, apps, beautiful, cute, health, igers, iphoneonly, iphonesia, iphone]</td>\n",
              "    </tr>\n",
              "    <tr>\n",
              "      <th>1</th>\n",
              "      <td>2</td>\n",
              "      <td>0</td>\n",
              "      <td>Finally a transparant silicon case ^^ Thanks to my uncle :) #yay #Sony #Xperia #S #sonyexperias… http://instagram.com/p/YGEt5JC6JM/</td>\n",
              "      <td>Finally a transparant silicon case  Thanks to my uncle  yay Sony Xperia S sonyexperias… httpinstagramcompYGEt5JC6JM</td>\n",
              "      <td>[finally, a, transparant, silicon, case, thanks, to, my, uncle, yay, sony, xperia, s, sonyexperias, httpinstagramcompyget5jc6jm]</td>\n",
              "    </tr>\n",
              "    <tr>\n",
              "      <th>2</th>\n",
              "      <td>3</td>\n",
              "      <td>0</td>\n",
              "      <td>We love this! Would you go? #talk #makememories #unplug #relax #iphone #smartphone #wifi #connect... http://fb.me/6N3LsUpCu</td>\n",
              "      <td>We love this Would you go talk makememories unplug relax iphone smartphone wifi connect httpfbme6N3LsUpCu</td>\n",
              "      <td>[we, love, this, would, you, go, talk, makememories, unplug, relax, iphone, smartphone, wifi, connect, httpfbme6n3lsupcu]</td>\n",
              "    </tr>\n",
              "    <tr>\n",
              "      <th>3</th>\n",
              "      <td>4</td>\n",
              "      <td>0</td>\n",
              "      <td>I'm wired I know I'm George I was made that way ;) #iphone #cute #daventry #home http://instagr.am/p/Li_5_ujS4k/</td>\n",
              "      <td>Im wired I know Im George I was made that way  iphone cute daventry home httpinstagrampLi5ujS4k</td>\n",
              "      <td>[im, wired, i, know, im, george, i, was, made, that, way, iphone, cute, daventry, home, httpinstagrampli5ujs4k]</td>\n",
              "    </tr>\n",
              "    <tr>\n",
              "      <th>4</th>\n",
              "      <td>5</td>\n",
              "      <td>1</td>\n",
              "      <td>What amazing service! Apple won't even talk to me about a question I have unless I pay them $19.95 for their stupid support!</td>\n",
              "      <td>What amazing service Apple wont even talk to me about a question I have unless I pay them 1995 for their stupid support</td>\n",
              "      <td>[what, amazing, service, apple, wont, even, talk, to, me, about, a, question, i, have, unless, i, pay, them, 1995, for, their, stupid, support]</td>\n",
              "    </tr>\n",
              "  </tbody>\n",
              "</table>\n",
              "</div>"
            ],
            "text/plain": [
              "   id  ...                                                                                                                                  tweet_tokenized\n",
              "0   1  ...                   [fingerprint, pregnancy, test, httpsgooglh1mfqv, android, apps, beautiful, cute, health, igers, iphoneonly, iphonesia, iphone]\n",
              "1   2  ...                 [finally, a, transparant, silicon, case, thanks, to, my, uncle, yay, sony, xperia, s, sonyexperias, httpinstagramcompyget5jc6jm]\n",
              "2   3  ...                        [we, love, this, would, you, go, talk, makememories, unplug, relax, iphone, smartphone, wifi, connect, httpfbme6n3lsupcu]\n",
              "3   4  ...                                  [im, wired, i, know, im, george, i, was, made, that, way, iphone, cute, daventry, home, httpinstagrampli5ujs4k]\n",
              "4   5  ...  [what, amazing, service, apple, wont, even, talk, to, me, about, a, question, i, have, unless, i, pay, them, 1995, for, their, stupid, support]\n",
              "\n",
              "[5 rows x 5 columns]"
            ]
          },
          "metadata": {
            "tags": []
          },
          "execution_count": 9
        }
      ]
    },
    {
      "cell_type": "code",
      "metadata": {
        "id": "ASBn7-Xe1RUX",
        "colab_type": "code",
        "colab": {
          "base_uri": "https://localhost:8080/",
          "height": 34
        },
        "outputId": "b81cbd64-2d01-4981-f5e8-7ca8adc21614"
      },
      "source": [
        "'NLP' == 'nlp'"
      ],
      "execution_count": 10,
      "outputs": [
        {
          "output_type": "execute_result",
          "data": {
            "text/plain": [
              "False"
            ]
          },
          "metadata": {
            "tags": []
          },
          "execution_count": 10
        }
      ]
    },
    {
      "cell_type": "markdown",
      "metadata": {
        "id": "NgZfHTEM1RUa",
        "colab_type": "text"
      },
      "source": [
        "### Remove stopwords"
      ]
    },
    {
      "cell_type": "code",
      "metadata": {
        "id": "NNKVCfYv1RUb",
        "colab_type": "code",
        "colab": {
          "base_uri": "https://localhost:8080/",
          "height": 105
        },
        "outputId": "4d9567be-86ca-4ba3-d053-e46b07e69bf9"
      },
      "source": [
        "import nltk\n",
        "nltk.download('stopwords')\n",
        "\n",
        "stopword = nltk.corpus.stopwords.words('english')\n",
        "print(len(stopword))\n",
        "print(stopword)"
      ],
      "execution_count": 11,
      "outputs": [
        {
          "output_type": "stream",
          "text": [
            "[nltk_data] Downloading package stopwords to /root/nltk_data...\n",
            "[nltk_data]   Unzipping corpora/stopwords.zip.\n",
            "179\n",
            "['i', 'me', 'my', 'myself', 'we', 'our', 'ours', 'ourselves', 'you', \"you're\", \"you've\", \"you'll\", \"you'd\", 'your', 'yours', 'yourself', 'yourselves', 'he', 'him', 'his', 'himself', 'she', \"she's\", 'her', 'hers', 'herself', 'it', \"it's\", 'its', 'itself', 'they', 'them', 'their', 'theirs', 'themselves', 'what', 'which', 'who', 'whom', 'this', 'that', \"that'll\", 'these', 'those', 'am', 'is', 'are', 'was', 'were', 'be', 'been', 'being', 'have', 'has', 'had', 'having', 'do', 'does', 'did', 'doing', 'a', 'an', 'the', 'and', 'but', 'if', 'or', 'because', 'as', 'until', 'while', 'of', 'at', 'by', 'for', 'with', 'about', 'against', 'between', 'into', 'through', 'during', 'before', 'after', 'above', 'below', 'to', 'from', 'up', 'down', 'in', 'out', 'on', 'off', 'over', 'under', 'again', 'further', 'then', 'once', 'here', 'there', 'when', 'where', 'why', 'how', 'all', 'any', 'both', 'each', 'few', 'more', 'most', 'other', 'some', 'such', 'no', 'nor', 'not', 'only', 'own', 'same', 'so', 'than', 'too', 'very', 's', 't', 'can', 'will', 'just', 'don', \"don't\", 'should', \"should've\", 'now', 'd', 'll', 'm', 'o', 're', 've', 'y', 'ain', 'aren', \"aren't\", 'couldn', \"couldn't\", 'didn', \"didn't\", 'doesn', \"doesn't\", 'hadn', \"hadn't\", 'hasn', \"hasn't\", 'haven', \"haven't\", 'isn', \"isn't\", 'ma', 'mightn', \"mightn't\", 'mustn', \"mustn't\", 'needn', \"needn't\", 'shan', \"shan't\", 'shouldn', \"shouldn't\", 'wasn', \"wasn't\", 'weren', \"weren't\", 'won', \"won't\", 'wouldn', \"wouldn't\"]\n"
          ],
          "name": "stdout"
        }
      ]
    },
    {
      "cell_type": "code",
      "metadata": {
        "id": "1lNbvw9O1RUh",
        "colab_type": "code",
        "colab": {
          "base_uri": "https://localhost:8080/",
          "height": 374
        },
        "outputId": "68f93953-35b3-4d47-e917-9a8313aba5fd"
      },
      "source": [
        "def remove_stopwords(tokenized_list):\n",
        "    text = [word for word in tokenized_list if word not in stopword]\n",
        "    return text\n",
        "\n",
        "data['tweet_nostop'] = data['tweet_tokenized'].apply(lambda x: remove_stopwords(x))\n",
        "\n",
        "data.head()"
      ],
      "execution_count": 12,
      "outputs": [
        {
          "output_type": "execute_result",
          "data": {
            "text/html": [
              "<div>\n",
              "<style scoped>\n",
              "    .dataframe tbody tr th:only-of-type {\n",
              "        vertical-align: middle;\n",
              "    }\n",
              "\n",
              "    .dataframe tbody tr th {\n",
              "        vertical-align: top;\n",
              "    }\n",
              "\n",
              "    .dataframe thead th {\n",
              "        text-align: right;\n",
              "    }\n",
              "</style>\n",
              "<table border=\"1\" class=\"dataframe\">\n",
              "  <thead>\n",
              "    <tr style=\"text-align: right;\">\n",
              "      <th></th>\n",
              "      <th>id</th>\n",
              "      <th>label</th>\n",
              "      <th>tweet</th>\n",
              "      <th>tweet_clean</th>\n",
              "      <th>tweet_tokenized</th>\n",
              "      <th>tweet_nostop</th>\n",
              "    </tr>\n",
              "  </thead>\n",
              "  <tbody>\n",
              "    <tr>\n",
              "      <th>0</th>\n",
              "      <td>1</td>\n",
              "      <td>0</td>\n",
              "      <td>#fingerprint #Pregnancy Test https://goo.gl/h1MfQV #android #apps #beautiful #cute #health #igers #iphoneonly #iphonesia #iphone</td>\n",
              "      <td>fingerprint Pregnancy Test httpsgooglh1MfQV android apps beautiful cute health igers iphoneonly iphonesia iphone</td>\n",
              "      <td>[fingerprint, pregnancy, test, httpsgooglh1mfqv, android, apps, beautiful, cute, health, igers, iphoneonly, iphonesia, iphone]</td>\n",
              "      <td>[fingerprint, pregnancy, test, httpsgooglh1mfqv, android, apps, beautiful, cute, health, igers, iphoneonly, iphonesia, iphone]</td>\n",
              "    </tr>\n",
              "    <tr>\n",
              "      <th>1</th>\n",
              "      <td>2</td>\n",
              "      <td>0</td>\n",
              "      <td>Finally a transparant silicon case ^^ Thanks to my uncle :) #yay #Sony #Xperia #S #sonyexperias… http://instagram.com/p/YGEt5JC6JM/</td>\n",
              "      <td>Finally a transparant silicon case  Thanks to my uncle  yay Sony Xperia S sonyexperias… httpinstagramcompYGEt5JC6JM</td>\n",
              "      <td>[finally, a, transparant, silicon, case, thanks, to, my, uncle, yay, sony, xperia, s, sonyexperias, httpinstagramcompyget5jc6jm]</td>\n",
              "      <td>[finally, transparant, silicon, case, thanks, uncle, yay, sony, xperia, sonyexperias, httpinstagramcompyget5jc6jm]</td>\n",
              "    </tr>\n",
              "    <tr>\n",
              "      <th>2</th>\n",
              "      <td>3</td>\n",
              "      <td>0</td>\n",
              "      <td>We love this! Would you go? #talk #makememories #unplug #relax #iphone #smartphone #wifi #connect... http://fb.me/6N3LsUpCu</td>\n",
              "      <td>We love this Would you go talk makememories unplug relax iphone smartphone wifi connect httpfbme6N3LsUpCu</td>\n",
              "      <td>[we, love, this, would, you, go, talk, makememories, unplug, relax, iphone, smartphone, wifi, connect, httpfbme6n3lsupcu]</td>\n",
              "      <td>[love, would, go, talk, makememories, unplug, relax, iphone, smartphone, wifi, connect, httpfbme6n3lsupcu]</td>\n",
              "    </tr>\n",
              "    <tr>\n",
              "      <th>3</th>\n",
              "      <td>4</td>\n",
              "      <td>0</td>\n",
              "      <td>I'm wired I know I'm George I was made that way ;) #iphone #cute #daventry #home http://instagr.am/p/Li_5_ujS4k/</td>\n",
              "      <td>Im wired I know Im George I was made that way  iphone cute daventry home httpinstagrampLi5ujS4k</td>\n",
              "      <td>[im, wired, i, know, im, george, i, was, made, that, way, iphone, cute, daventry, home, httpinstagrampli5ujs4k]</td>\n",
              "      <td>[im, wired, know, im, george, made, way, iphone, cute, daventry, home, httpinstagrampli5ujs4k]</td>\n",
              "    </tr>\n",
              "    <tr>\n",
              "      <th>4</th>\n",
              "      <td>5</td>\n",
              "      <td>1</td>\n",
              "      <td>What amazing service! Apple won't even talk to me about a question I have unless I pay them $19.95 for their stupid support!</td>\n",
              "      <td>What amazing service Apple wont even talk to me about a question I have unless I pay them 1995 for their stupid support</td>\n",
              "      <td>[what, amazing, service, apple, wont, even, talk, to, me, about, a, question, i, have, unless, i, pay, them, 1995, for, their, stupid, support]</td>\n",
              "      <td>[amazing, service, apple, wont, even, talk, question, unless, pay, 1995, stupid, support]</td>\n",
              "    </tr>\n",
              "  </tbody>\n",
              "</table>\n",
              "</div>"
            ],
            "text/plain": [
              "   id  ...                                                                                                                    tweet_nostop\n",
              "0   1  ...  [fingerprint, pregnancy, test, httpsgooglh1mfqv, android, apps, beautiful, cute, health, igers, iphoneonly, iphonesia, iphone]\n",
              "1   2  ...              [finally, transparant, silicon, case, thanks, uncle, yay, sony, xperia, sonyexperias, httpinstagramcompyget5jc6jm]\n",
              "2   3  ...                      [love, would, go, talk, makememories, unplug, relax, iphone, smartphone, wifi, connect, httpfbme6n3lsupcu]\n",
              "3   4  ...                                  [im, wired, know, im, george, made, way, iphone, cute, daventry, home, httpinstagrampli5ujs4k]\n",
              "4   5  ...                                       [amazing, service, apple, wont, even, talk, question, unless, pay, 1995, stupid, support]\n",
              "\n",
              "[5 rows x 6 columns]"
            ]
          },
          "metadata": {
            "tags": []
          },
          "execution_count": 12
        }
      ]
    },
    {
      "cell_type": "code",
      "metadata": {
        "id": "knmNiWt91RUk",
        "colab_type": "code",
        "colab": {}
      },
      "source": [
        ""
      ],
      "execution_count": null,
      "outputs": []
    }
  ]
}